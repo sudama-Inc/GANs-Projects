{
  "nbformat": 4,
  "nbformat_minor": 0,
  "metadata": {
    "colab": {
      "name": "MNIST_Generator_GAN.ipynb.ipynb",
      "provenance": [],
      "authorship_tag": "ABX9TyN42qdo1zFvYh0LTBGmNSB7",
      "include_colab_link": true
    },
    "kernelspec": {
      "name": "python3",
      "display_name": "Python 3"
    },
    "language_info": {
      "name": "python"
    },
    "accelerator": "GPU",
    "widgets": {
      "application/vnd.jupyter.widget-state+json": {
        "4d192df0765745dab5bf707ab186c9d6": {
          "model_module": "@jupyter-widgets/controls",
          "model_name": "HBoxModel",
          "model_module_version": "1.5.0",
          "state": {
            "_dom_classes": [],
            "_model_module": "@jupyter-widgets/controls",
            "_model_module_version": "1.5.0",
            "_model_name": "HBoxModel",
            "_view_count": null,
            "_view_module": "@jupyter-widgets/controls",
            "_view_module_version": "1.5.0",
            "_view_name": "HBoxView",
            "box_style": "",
            "children": [
              "IPY_MODEL_b781412698c74dd59919971ed14ecd64",
              "IPY_MODEL_a6a51691a5ce419a9d383f58d20c82a2",
              "IPY_MODEL_e3341aaf9bea44e29aff6721f5d44660"
            ],
            "layout": "IPY_MODEL_ca8310e2848f4a70bc9ec8b619133e4f"
          }
        },
        "b781412698c74dd59919971ed14ecd64": {
          "model_module": "@jupyter-widgets/controls",
          "model_name": "HTMLModel",
          "model_module_version": "1.5.0",
          "state": {
            "_dom_classes": [],
            "_model_module": "@jupyter-widgets/controls",
            "_model_module_version": "1.5.0",
            "_model_name": "HTMLModel",
            "_view_count": null,
            "_view_module": "@jupyter-widgets/controls",
            "_view_module_version": "1.5.0",
            "_view_name": "HTMLView",
            "description": "",
            "description_tooltip": null,
            "layout": "IPY_MODEL_bf6cedcaf84f496d8a6df9c5501d9d3b",
            "placeholder": "​",
            "style": "IPY_MODEL_6dfb7fe6e6bc4259beb8e292a533da8b",
            "value": ""
          }
        },
        "a6a51691a5ce419a9d383f58d20c82a2": {
          "model_module": "@jupyter-widgets/controls",
          "model_name": "FloatProgressModel",
          "model_module_version": "1.5.0",
          "state": {
            "_dom_classes": [],
            "_model_module": "@jupyter-widgets/controls",
            "_model_module_version": "1.5.0",
            "_model_name": "FloatProgressModel",
            "_view_count": null,
            "_view_module": "@jupyter-widgets/controls",
            "_view_module_version": "1.5.0",
            "_view_name": "ProgressView",
            "bar_style": "success",
            "description": "",
            "description_tooltip": null,
            "layout": "IPY_MODEL_bd648595187f453d855e02c072eb6778",
            "max": 9912422,
            "min": 0,
            "orientation": "horizontal",
            "style": "IPY_MODEL_6a4f8a268d374a888aef0b6dd1096cbb",
            "value": 9912422
          }
        },
        "e3341aaf9bea44e29aff6721f5d44660": {
          "model_module": "@jupyter-widgets/controls",
          "model_name": "HTMLModel",
          "model_module_version": "1.5.0",
          "state": {
            "_dom_classes": [],
            "_model_module": "@jupyter-widgets/controls",
            "_model_module_version": "1.5.0",
            "_model_name": "HTMLModel",
            "_view_count": null,
            "_view_module": "@jupyter-widgets/controls",
            "_view_module_version": "1.5.0",
            "_view_name": "HTMLView",
            "description": "",
            "description_tooltip": null,
            "layout": "IPY_MODEL_736410588c234694976058ff5d7eab08",
            "placeholder": "​",
            "style": "IPY_MODEL_4d0ab3f6bcdf41ffa3e37d3e504ddd3b",
            "value": " 9913344/? [00:00&lt;00:00, 24466740.01it/s]"
          }
        },
        "ca8310e2848f4a70bc9ec8b619133e4f": {
          "model_module": "@jupyter-widgets/base",
          "model_name": "LayoutModel",
          "model_module_version": "1.2.0",
          "state": {
            "_model_module": "@jupyter-widgets/base",
            "_model_module_version": "1.2.0",
            "_model_name": "LayoutModel",
            "_view_count": null,
            "_view_module": "@jupyter-widgets/base",
            "_view_module_version": "1.2.0",
            "_view_name": "LayoutView",
            "align_content": null,
            "align_items": null,
            "align_self": null,
            "border": null,
            "bottom": null,
            "display": null,
            "flex": null,
            "flex_flow": null,
            "grid_area": null,
            "grid_auto_columns": null,
            "grid_auto_flow": null,
            "grid_auto_rows": null,
            "grid_column": null,
            "grid_gap": null,
            "grid_row": null,
            "grid_template_areas": null,
            "grid_template_columns": null,
            "grid_template_rows": null,
            "height": null,
            "justify_content": null,
            "justify_items": null,
            "left": null,
            "margin": null,
            "max_height": null,
            "max_width": null,
            "min_height": null,
            "min_width": null,
            "object_fit": null,
            "object_position": null,
            "order": null,
            "overflow": null,
            "overflow_x": null,
            "overflow_y": null,
            "padding": null,
            "right": null,
            "top": null,
            "visibility": null,
            "width": null
          }
        },
        "bf6cedcaf84f496d8a6df9c5501d9d3b": {
          "model_module": "@jupyter-widgets/base",
          "model_name": "LayoutModel",
          "model_module_version": "1.2.0",
          "state": {
            "_model_module": "@jupyter-widgets/base",
            "_model_module_version": "1.2.0",
            "_model_name": "LayoutModel",
            "_view_count": null,
            "_view_module": "@jupyter-widgets/base",
            "_view_module_version": "1.2.0",
            "_view_name": "LayoutView",
            "align_content": null,
            "align_items": null,
            "align_self": null,
            "border": null,
            "bottom": null,
            "display": null,
            "flex": null,
            "flex_flow": null,
            "grid_area": null,
            "grid_auto_columns": null,
            "grid_auto_flow": null,
            "grid_auto_rows": null,
            "grid_column": null,
            "grid_gap": null,
            "grid_row": null,
            "grid_template_areas": null,
            "grid_template_columns": null,
            "grid_template_rows": null,
            "height": null,
            "justify_content": null,
            "justify_items": null,
            "left": null,
            "margin": null,
            "max_height": null,
            "max_width": null,
            "min_height": null,
            "min_width": null,
            "object_fit": null,
            "object_position": null,
            "order": null,
            "overflow": null,
            "overflow_x": null,
            "overflow_y": null,
            "padding": null,
            "right": null,
            "top": null,
            "visibility": null,
            "width": null
          }
        },
        "6dfb7fe6e6bc4259beb8e292a533da8b": {
          "model_module": "@jupyter-widgets/controls",
          "model_name": "DescriptionStyleModel",
          "model_module_version": "1.5.0",
          "state": {
            "_model_module": "@jupyter-widgets/controls",
            "_model_module_version": "1.5.0",
            "_model_name": "DescriptionStyleModel",
            "_view_count": null,
            "_view_module": "@jupyter-widgets/base",
            "_view_module_version": "1.2.0",
            "_view_name": "StyleView",
            "description_width": ""
          }
        },
        "bd648595187f453d855e02c072eb6778": {
          "model_module": "@jupyter-widgets/base",
          "model_name": "LayoutModel",
          "model_module_version": "1.2.0",
          "state": {
            "_model_module": "@jupyter-widgets/base",
            "_model_module_version": "1.2.0",
            "_model_name": "LayoutModel",
            "_view_count": null,
            "_view_module": "@jupyter-widgets/base",
            "_view_module_version": "1.2.0",
            "_view_name": "LayoutView",
            "align_content": null,
            "align_items": null,
            "align_self": null,
            "border": null,
            "bottom": null,
            "display": null,
            "flex": null,
            "flex_flow": null,
            "grid_area": null,
            "grid_auto_columns": null,
            "grid_auto_flow": null,
            "grid_auto_rows": null,
            "grid_column": null,
            "grid_gap": null,
            "grid_row": null,
            "grid_template_areas": null,
            "grid_template_columns": null,
            "grid_template_rows": null,
            "height": null,
            "justify_content": null,
            "justify_items": null,
            "left": null,
            "margin": null,
            "max_height": null,
            "max_width": null,
            "min_height": null,
            "min_width": null,
            "object_fit": null,
            "object_position": null,
            "order": null,
            "overflow": null,
            "overflow_x": null,
            "overflow_y": null,
            "padding": null,
            "right": null,
            "top": null,
            "visibility": null,
            "width": null
          }
        },
        "6a4f8a268d374a888aef0b6dd1096cbb": {
          "model_module": "@jupyter-widgets/controls",
          "model_name": "ProgressStyleModel",
          "model_module_version": "1.5.0",
          "state": {
            "_model_module": "@jupyter-widgets/controls",
            "_model_module_version": "1.5.0",
            "_model_name": "ProgressStyleModel",
            "_view_count": null,
            "_view_module": "@jupyter-widgets/base",
            "_view_module_version": "1.2.0",
            "_view_name": "StyleView",
            "bar_color": null,
            "description_width": ""
          }
        },
        "736410588c234694976058ff5d7eab08": {
          "model_module": "@jupyter-widgets/base",
          "model_name": "LayoutModel",
          "model_module_version": "1.2.0",
          "state": {
            "_model_module": "@jupyter-widgets/base",
            "_model_module_version": "1.2.0",
            "_model_name": "LayoutModel",
            "_view_count": null,
            "_view_module": "@jupyter-widgets/base",
            "_view_module_version": "1.2.0",
            "_view_name": "LayoutView",
            "align_content": null,
            "align_items": null,
            "align_self": null,
            "border": null,
            "bottom": null,
            "display": null,
            "flex": null,
            "flex_flow": null,
            "grid_area": null,
            "grid_auto_columns": null,
            "grid_auto_flow": null,
            "grid_auto_rows": null,
            "grid_column": null,
            "grid_gap": null,
            "grid_row": null,
            "grid_template_areas": null,
            "grid_template_columns": null,
            "grid_template_rows": null,
            "height": null,
            "justify_content": null,
            "justify_items": null,
            "left": null,
            "margin": null,
            "max_height": null,
            "max_width": null,
            "min_height": null,
            "min_width": null,
            "object_fit": null,
            "object_position": null,
            "order": null,
            "overflow": null,
            "overflow_x": null,
            "overflow_y": null,
            "padding": null,
            "right": null,
            "top": null,
            "visibility": null,
            "width": null
          }
        },
        "4d0ab3f6bcdf41ffa3e37d3e504ddd3b": {
          "model_module": "@jupyter-widgets/controls",
          "model_name": "DescriptionStyleModel",
          "model_module_version": "1.5.0",
          "state": {
            "_model_module": "@jupyter-widgets/controls",
            "_model_module_version": "1.5.0",
            "_model_name": "DescriptionStyleModel",
            "_view_count": null,
            "_view_module": "@jupyter-widgets/base",
            "_view_module_version": "1.2.0",
            "_view_name": "StyleView",
            "description_width": ""
          }
        },
        "743a1b601e634eddaf13ca81864b6da6": {
          "model_module": "@jupyter-widgets/controls",
          "model_name": "HBoxModel",
          "model_module_version": "1.5.0",
          "state": {
            "_dom_classes": [],
            "_model_module": "@jupyter-widgets/controls",
            "_model_module_version": "1.5.0",
            "_model_name": "HBoxModel",
            "_view_count": null,
            "_view_module": "@jupyter-widgets/controls",
            "_view_module_version": "1.5.0",
            "_view_name": "HBoxView",
            "box_style": "",
            "children": [
              "IPY_MODEL_a09db304af9c495ca3654c362f22ae70",
              "IPY_MODEL_c5d790e9b91648d7b7a3ba98c51b6f3f",
              "IPY_MODEL_6ad46e079afa406488afa490a25c207b"
            ],
            "layout": "IPY_MODEL_58f9ae1bd62c4384a880a604829d66fe"
          }
        },
        "a09db304af9c495ca3654c362f22ae70": {
          "model_module": "@jupyter-widgets/controls",
          "model_name": "HTMLModel",
          "model_module_version": "1.5.0",
          "state": {
            "_dom_classes": [],
            "_model_module": "@jupyter-widgets/controls",
            "_model_module_version": "1.5.0",
            "_model_name": "HTMLModel",
            "_view_count": null,
            "_view_module": "@jupyter-widgets/controls",
            "_view_module_version": "1.5.0",
            "_view_name": "HTMLView",
            "description": "",
            "description_tooltip": null,
            "layout": "IPY_MODEL_b8b3a958f36f4be7ad088f88cdaf0b1e",
            "placeholder": "​",
            "style": "IPY_MODEL_865ff32ffe5e41f887aa8471f95ecb88",
            "value": ""
          }
        },
        "c5d790e9b91648d7b7a3ba98c51b6f3f": {
          "model_module": "@jupyter-widgets/controls",
          "model_name": "FloatProgressModel",
          "model_module_version": "1.5.0",
          "state": {
            "_dom_classes": [],
            "_model_module": "@jupyter-widgets/controls",
            "_model_module_version": "1.5.0",
            "_model_name": "FloatProgressModel",
            "_view_count": null,
            "_view_module": "@jupyter-widgets/controls",
            "_view_module_version": "1.5.0",
            "_view_name": "ProgressView",
            "bar_style": "success",
            "description": "",
            "description_tooltip": null,
            "layout": "IPY_MODEL_34c96ac709c24bb9a5cf2a261a467438",
            "max": 28881,
            "min": 0,
            "orientation": "horizontal",
            "style": "IPY_MODEL_a7726a1510a944349f12bc277416046d",
            "value": 28881
          }
        },
        "6ad46e079afa406488afa490a25c207b": {
          "model_module": "@jupyter-widgets/controls",
          "model_name": "HTMLModel",
          "model_module_version": "1.5.0",
          "state": {
            "_dom_classes": [],
            "_model_module": "@jupyter-widgets/controls",
            "_model_module_version": "1.5.0",
            "_model_name": "HTMLModel",
            "_view_count": null,
            "_view_module": "@jupyter-widgets/controls",
            "_view_module_version": "1.5.0",
            "_view_name": "HTMLView",
            "description": "",
            "description_tooltip": null,
            "layout": "IPY_MODEL_4fe97f6324944952989a3798c1719ede",
            "placeholder": "​",
            "style": "IPY_MODEL_f9a8622b61b24db688b0257a7614b008",
            "value": " 29696/? [00:00&lt;00:00, 807507.87it/s]"
          }
        },
        "58f9ae1bd62c4384a880a604829d66fe": {
          "model_module": "@jupyter-widgets/base",
          "model_name": "LayoutModel",
          "model_module_version": "1.2.0",
          "state": {
            "_model_module": "@jupyter-widgets/base",
            "_model_module_version": "1.2.0",
            "_model_name": "LayoutModel",
            "_view_count": null,
            "_view_module": "@jupyter-widgets/base",
            "_view_module_version": "1.2.0",
            "_view_name": "LayoutView",
            "align_content": null,
            "align_items": null,
            "align_self": null,
            "border": null,
            "bottom": null,
            "display": null,
            "flex": null,
            "flex_flow": null,
            "grid_area": null,
            "grid_auto_columns": null,
            "grid_auto_flow": null,
            "grid_auto_rows": null,
            "grid_column": null,
            "grid_gap": null,
            "grid_row": null,
            "grid_template_areas": null,
            "grid_template_columns": null,
            "grid_template_rows": null,
            "height": null,
            "justify_content": null,
            "justify_items": null,
            "left": null,
            "margin": null,
            "max_height": null,
            "max_width": null,
            "min_height": null,
            "min_width": null,
            "object_fit": null,
            "object_position": null,
            "order": null,
            "overflow": null,
            "overflow_x": null,
            "overflow_y": null,
            "padding": null,
            "right": null,
            "top": null,
            "visibility": null,
            "width": null
          }
        },
        "b8b3a958f36f4be7ad088f88cdaf0b1e": {
          "model_module": "@jupyter-widgets/base",
          "model_name": "LayoutModel",
          "model_module_version": "1.2.0",
          "state": {
            "_model_module": "@jupyter-widgets/base",
            "_model_module_version": "1.2.0",
            "_model_name": "LayoutModel",
            "_view_count": null,
            "_view_module": "@jupyter-widgets/base",
            "_view_module_version": "1.2.0",
            "_view_name": "LayoutView",
            "align_content": null,
            "align_items": null,
            "align_self": null,
            "border": null,
            "bottom": null,
            "display": null,
            "flex": null,
            "flex_flow": null,
            "grid_area": null,
            "grid_auto_columns": null,
            "grid_auto_flow": null,
            "grid_auto_rows": null,
            "grid_column": null,
            "grid_gap": null,
            "grid_row": null,
            "grid_template_areas": null,
            "grid_template_columns": null,
            "grid_template_rows": null,
            "height": null,
            "justify_content": null,
            "justify_items": null,
            "left": null,
            "margin": null,
            "max_height": null,
            "max_width": null,
            "min_height": null,
            "min_width": null,
            "object_fit": null,
            "object_position": null,
            "order": null,
            "overflow": null,
            "overflow_x": null,
            "overflow_y": null,
            "padding": null,
            "right": null,
            "top": null,
            "visibility": null,
            "width": null
          }
        },
        "865ff32ffe5e41f887aa8471f95ecb88": {
          "model_module": "@jupyter-widgets/controls",
          "model_name": "DescriptionStyleModel",
          "model_module_version": "1.5.0",
          "state": {
            "_model_module": "@jupyter-widgets/controls",
            "_model_module_version": "1.5.0",
            "_model_name": "DescriptionStyleModel",
            "_view_count": null,
            "_view_module": "@jupyter-widgets/base",
            "_view_module_version": "1.2.0",
            "_view_name": "StyleView",
            "description_width": ""
          }
        },
        "34c96ac709c24bb9a5cf2a261a467438": {
          "model_module": "@jupyter-widgets/base",
          "model_name": "LayoutModel",
          "model_module_version": "1.2.0",
          "state": {
            "_model_module": "@jupyter-widgets/base",
            "_model_module_version": "1.2.0",
            "_model_name": "LayoutModel",
            "_view_count": null,
            "_view_module": "@jupyter-widgets/base",
            "_view_module_version": "1.2.0",
            "_view_name": "LayoutView",
            "align_content": null,
            "align_items": null,
            "align_self": null,
            "border": null,
            "bottom": null,
            "display": null,
            "flex": null,
            "flex_flow": null,
            "grid_area": null,
            "grid_auto_columns": null,
            "grid_auto_flow": null,
            "grid_auto_rows": null,
            "grid_column": null,
            "grid_gap": null,
            "grid_row": null,
            "grid_template_areas": null,
            "grid_template_columns": null,
            "grid_template_rows": null,
            "height": null,
            "justify_content": null,
            "justify_items": null,
            "left": null,
            "margin": null,
            "max_height": null,
            "max_width": null,
            "min_height": null,
            "min_width": null,
            "object_fit": null,
            "object_position": null,
            "order": null,
            "overflow": null,
            "overflow_x": null,
            "overflow_y": null,
            "padding": null,
            "right": null,
            "top": null,
            "visibility": null,
            "width": null
          }
        },
        "a7726a1510a944349f12bc277416046d": {
          "model_module": "@jupyter-widgets/controls",
          "model_name": "ProgressStyleModel",
          "model_module_version": "1.5.0",
          "state": {
            "_model_module": "@jupyter-widgets/controls",
            "_model_module_version": "1.5.0",
            "_model_name": "ProgressStyleModel",
            "_view_count": null,
            "_view_module": "@jupyter-widgets/base",
            "_view_module_version": "1.2.0",
            "_view_name": "StyleView",
            "bar_color": null,
            "description_width": ""
          }
        },
        "4fe97f6324944952989a3798c1719ede": {
          "model_module": "@jupyter-widgets/base",
          "model_name": "LayoutModel",
          "model_module_version": "1.2.0",
          "state": {
            "_model_module": "@jupyter-widgets/base",
            "_model_module_version": "1.2.0",
            "_model_name": "LayoutModel",
            "_view_count": null,
            "_view_module": "@jupyter-widgets/base",
            "_view_module_version": "1.2.0",
            "_view_name": "LayoutView",
            "align_content": null,
            "align_items": null,
            "align_self": null,
            "border": null,
            "bottom": null,
            "display": null,
            "flex": null,
            "flex_flow": null,
            "grid_area": null,
            "grid_auto_columns": null,
            "grid_auto_flow": null,
            "grid_auto_rows": null,
            "grid_column": null,
            "grid_gap": null,
            "grid_row": null,
            "grid_template_areas": null,
            "grid_template_columns": null,
            "grid_template_rows": null,
            "height": null,
            "justify_content": null,
            "justify_items": null,
            "left": null,
            "margin": null,
            "max_height": null,
            "max_width": null,
            "min_height": null,
            "min_width": null,
            "object_fit": null,
            "object_position": null,
            "order": null,
            "overflow": null,
            "overflow_x": null,
            "overflow_y": null,
            "padding": null,
            "right": null,
            "top": null,
            "visibility": null,
            "width": null
          }
        },
        "f9a8622b61b24db688b0257a7614b008": {
          "model_module": "@jupyter-widgets/controls",
          "model_name": "DescriptionStyleModel",
          "model_module_version": "1.5.0",
          "state": {
            "_model_module": "@jupyter-widgets/controls",
            "_model_module_version": "1.5.0",
            "_model_name": "DescriptionStyleModel",
            "_view_count": null,
            "_view_module": "@jupyter-widgets/base",
            "_view_module_version": "1.2.0",
            "_view_name": "StyleView",
            "description_width": ""
          }
        },
        "fdb1558cc1bf4857938d47a42d0addce": {
          "model_module": "@jupyter-widgets/controls",
          "model_name": "HBoxModel",
          "model_module_version": "1.5.0",
          "state": {
            "_dom_classes": [],
            "_model_module": "@jupyter-widgets/controls",
            "_model_module_version": "1.5.0",
            "_model_name": "HBoxModel",
            "_view_count": null,
            "_view_module": "@jupyter-widgets/controls",
            "_view_module_version": "1.5.0",
            "_view_name": "HBoxView",
            "box_style": "",
            "children": [
              "IPY_MODEL_02bccd75e3b24f1faa0bd12d09dbaffc",
              "IPY_MODEL_4198aba422634332ae0b89b0c23c370b",
              "IPY_MODEL_5a4f2e0627c94002a23299dd99fc8f66"
            ],
            "layout": "IPY_MODEL_d8b1c7de646d4395b72ecdbcf8b62812"
          }
        },
        "02bccd75e3b24f1faa0bd12d09dbaffc": {
          "model_module": "@jupyter-widgets/controls",
          "model_name": "HTMLModel",
          "model_module_version": "1.5.0",
          "state": {
            "_dom_classes": [],
            "_model_module": "@jupyter-widgets/controls",
            "_model_module_version": "1.5.0",
            "_model_name": "HTMLModel",
            "_view_count": null,
            "_view_module": "@jupyter-widgets/controls",
            "_view_module_version": "1.5.0",
            "_view_name": "HTMLView",
            "description": "",
            "description_tooltip": null,
            "layout": "IPY_MODEL_5db146e8d96047fab9203f925d75a71d",
            "placeholder": "​",
            "style": "IPY_MODEL_61d5759d4e89491599b2a694d9d914bb",
            "value": ""
          }
        },
        "4198aba422634332ae0b89b0c23c370b": {
          "model_module": "@jupyter-widgets/controls",
          "model_name": "FloatProgressModel",
          "model_module_version": "1.5.0",
          "state": {
            "_dom_classes": [],
            "_model_module": "@jupyter-widgets/controls",
            "_model_module_version": "1.5.0",
            "_model_name": "FloatProgressModel",
            "_view_count": null,
            "_view_module": "@jupyter-widgets/controls",
            "_view_module_version": "1.5.0",
            "_view_name": "ProgressView",
            "bar_style": "success",
            "description": "",
            "description_tooltip": null,
            "layout": "IPY_MODEL_e6d9f1d427ec4684a8d49e85bb1dd558",
            "max": 1648877,
            "min": 0,
            "orientation": "horizontal",
            "style": "IPY_MODEL_ddf8d61ba48c48ceb1651c2b612b92cb",
            "value": 1648877
          }
        },
        "5a4f2e0627c94002a23299dd99fc8f66": {
          "model_module": "@jupyter-widgets/controls",
          "model_name": "HTMLModel",
          "model_module_version": "1.5.0",
          "state": {
            "_dom_classes": [],
            "_model_module": "@jupyter-widgets/controls",
            "_model_module_version": "1.5.0",
            "_model_name": "HTMLModel",
            "_view_count": null,
            "_view_module": "@jupyter-widgets/controls",
            "_view_module_version": "1.5.0",
            "_view_name": "HTMLView",
            "description": "",
            "description_tooltip": null,
            "layout": "IPY_MODEL_8a5a28f0195a4565903e2edbce77768d",
            "placeholder": "​",
            "style": "IPY_MODEL_5009c4c995394b1b8af66b73c94be4f9",
            "value": " 1649664/? [00:00&lt;00:00, 20246178.71it/s]"
          }
        },
        "d8b1c7de646d4395b72ecdbcf8b62812": {
          "model_module": "@jupyter-widgets/base",
          "model_name": "LayoutModel",
          "model_module_version": "1.2.0",
          "state": {
            "_model_module": "@jupyter-widgets/base",
            "_model_module_version": "1.2.0",
            "_model_name": "LayoutModel",
            "_view_count": null,
            "_view_module": "@jupyter-widgets/base",
            "_view_module_version": "1.2.0",
            "_view_name": "LayoutView",
            "align_content": null,
            "align_items": null,
            "align_self": null,
            "border": null,
            "bottom": null,
            "display": null,
            "flex": null,
            "flex_flow": null,
            "grid_area": null,
            "grid_auto_columns": null,
            "grid_auto_flow": null,
            "grid_auto_rows": null,
            "grid_column": null,
            "grid_gap": null,
            "grid_row": null,
            "grid_template_areas": null,
            "grid_template_columns": null,
            "grid_template_rows": null,
            "height": null,
            "justify_content": null,
            "justify_items": null,
            "left": null,
            "margin": null,
            "max_height": null,
            "max_width": null,
            "min_height": null,
            "min_width": null,
            "object_fit": null,
            "object_position": null,
            "order": null,
            "overflow": null,
            "overflow_x": null,
            "overflow_y": null,
            "padding": null,
            "right": null,
            "top": null,
            "visibility": null,
            "width": null
          }
        },
        "5db146e8d96047fab9203f925d75a71d": {
          "model_module": "@jupyter-widgets/base",
          "model_name": "LayoutModel",
          "model_module_version": "1.2.0",
          "state": {
            "_model_module": "@jupyter-widgets/base",
            "_model_module_version": "1.2.0",
            "_model_name": "LayoutModel",
            "_view_count": null,
            "_view_module": "@jupyter-widgets/base",
            "_view_module_version": "1.2.0",
            "_view_name": "LayoutView",
            "align_content": null,
            "align_items": null,
            "align_self": null,
            "border": null,
            "bottom": null,
            "display": null,
            "flex": null,
            "flex_flow": null,
            "grid_area": null,
            "grid_auto_columns": null,
            "grid_auto_flow": null,
            "grid_auto_rows": null,
            "grid_column": null,
            "grid_gap": null,
            "grid_row": null,
            "grid_template_areas": null,
            "grid_template_columns": null,
            "grid_template_rows": null,
            "height": null,
            "justify_content": null,
            "justify_items": null,
            "left": null,
            "margin": null,
            "max_height": null,
            "max_width": null,
            "min_height": null,
            "min_width": null,
            "object_fit": null,
            "object_position": null,
            "order": null,
            "overflow": null,
            "overflow_x": null,
            "overflow_y": null,
            "padding": null,
            "right": null,
            "top": null,
            "visibility": null,
            "width": null
          }
        },
        "61d5759d4e89491599b2a694d9d914bb": {
          "model_module": "@jupyter-widgets/controls",
          "model_name": "DescriptionStyleModel",
          "model_module_version": "1.5.0",
          "state": {
            "_model_module": "@jupyter-widgets/controls",
            "_model_module_version": "1.5.0",
            "_model_name": "DescriptionStyleModel",
            "_view_count": null,
            "_view_module": "@jupyter-widgets/base",
            "_view_module_version": "1.2.0",
            "_view_name": "StyleView",
            "description_width": ""
          }
        },
        "e6d9f1d427ec4684a8d49e85bb1dd558": {
          "model_module": "@jupyter-widgets/base",
          "model_name": "LayoutModel",
          "model_module_version": "1.2.0",
          "state": {
            "_model_module": "@jupyter-widgets/base",
            "_model_module_version": "1.2.0",
            "_model_name": "LayoutModel",
            "_view_count": null,
            "_view_module": "@jupyter-widgets/base",
            "_view_module_version": "1.2.0",
            "_view_name": "LayoutView",
            "align_content": null,
            "align_items": null,
            "align_self": null,
            "border": null,
            "bottom": null,
            "display": null,
            "flex": null,
            "flex_flow": null,
            "grid_area": null,
            "grid_auto_columns": null,
            "grid_auto_flow": null,
            "grid_auto_rows": null,
            "grid_column": null,
            "grid_gap": null,
            "grid_row": null,
            "grid_template_areas": null,
            "grid_template_columns": null,
            "grid_template_rows": null,
            "height": null,
            "justify_content": null,
            "justify_items": null,
            "left": null,
            "margin": null,
            "max_height": null,
            "max_width": null,
            "min_height": null,
            "min_width": null,
            "object_fit": null,
            "object_position": null,
            "order": null,
            "overflow": null,
            "overflow_x": null,
            "overflow_y": null,
            "padding": null,
            "right": null,
            "top": null,
            "visibility": null,
            "width": null
          }
        },
        "ddf8d61ba48c48ceb1651c2b612b92cb": {
          "model_module": "@jupyter-widgets/controls",
          "model_name": "ProgressStyleModel",
          "model_module_version": "1.5.0",
          "state": {
            "_model_module": "@jupyter-widgets/controls",
            "_model_module_version": "1.5.0",
            "_model_name": "ProgressStyleModel",
            "_view_count": null,
            "_view_module": "@jupyter-widgets/base",
            "_view_module_version": "1.2.0",
            "_view_name": "StyleView",
            "bar_color": null,
            "description_width": ""
          }
        },
        "8a5a28f0195a4565903e2edbce77768d": {
          "model_module": "@jupyter-widgets/base",
          "model_name": "LayoutModel",
          "model_module_version": "1.2.0",
          "state": {
            "_model_module": "@jupyter-widgets/base",
            "_model_module_version": "1.2.0",
            "_model_name": "LayoutModel",
            "_view_count": null,
            "_view_module": "@jupyter-widgets/base",
            "_view_module_version": "1.2.0",
            "_view_name": "LayoutView",
            "align_content": null,
            "align_items": null,
            "align_self": null,
            "border": null,
            "bottom": null,
            "display": null,
            "flex": null,
            "flex_flow": null,
            "grid_area": null,
            "grid_auto_columns": null,
            "grid_auto_flow": null,
            "grid_auto_rows": null,
            "grid_column": null,
            "grid_gap": null,
            "grid_row": null,
            "grid_template_areas": null,
            "grid_template_columns": null,
            "grid_template_rows": null,
            "height": null,
            "justify_content": null,
            "justify_items": null,
            "left": null,
            "margin": null,
            "max_height": null,
            "max_width": null,
            "min_height": null,
            "min_width": null,
            "object_fit": null,
            "object_position": null,
            "order": null,
            "overflow": null,
            "overflow_x": null,
            "overflow_y": null,
            "padding": null,
            "right": null,
            "top": null,
            "visibility": null,
            "width": null
          }
        },
        "5009c4c995394b1b8af66b73c94be4f9": {
          "model_module": "@jupyter-widgets/controls",
          "model_name": "DescriptionStyleModel",
          "model_module_version": "1.5.0",
          "state": {
            "_model_module": "@jupyter-widgets/controls",
            "_model_module_version": "1.5.0",
            "_model_name": "DescriptionStyleModel",
            "_view_count": null,
            "_view_module": "@jupyter-widgets/base",
            "_view_module_version": "1.2.0",
            "_view_name": "StyleView",
            "description_width": ""
          }
        },
        "196c9c0f350443d68b3a61da28860b96": {
          "model_module": "@jupyter-widgets/controls",
          "model_name": "HBoxModel",
          "model_module_version": "1.5.0",
          "state": {
            "_dom_classes": [],
            "_model_module": "@jupyter-widgets/controls",
            "_model_module_version": "1.5.0",
            "_model_name": "HBoxModel",
            "_view_count": null,
            "_view_module": "@jupyter-widgets/controls",
            "_view_module_version": "1.5.0",
            "_view_name": "HBoxView",
            "box_style": "",
            "children": [
              "IPY_MODEL_fdc810750de14ea0a2f7784084fa6cc7",
              "IPY_MODEL_e5ea0b9c07ed496a8f7cf308eaed9bcd",
              "IPY_MODEL_2607b56122a54e2ca9fe531a0427d1b2"
            ],
            "layout": "IPY_MODEL_4f28972f09cb44a49fb2947b9f73be0c"
          }
        },
        "fdc810750de14ea0a2f7784084fa6cc7": {
          "model_module": "@jupyter-widgets/controls",
          "model_name": "HTMLModel",
          "model_module_version": "1.5.0",
          "state": {
            "_dom_classes": [],
            "_model_module": "@jupyter-widgets/controls",
            "_model_module_version": "1.5.0",
            "_model_name": "HTMLModel",
            "_view_count": null,
            "_view_module": "@jupyter-widgets/controls",
            "_view_module_version": "1.5.0",
            "_view_name": "HTMLView",
            "description": "",
            "description_tooltip": null,
            "layout": "IPY_MODEL_cb0909fcee404e36b5ba78f8f5915762",
            "placeholder": "​",
            "style": "IPY_MODEL_cd768054100b434c8800f4361ed9edd3",
            "value": ""
          }
        },
        "e5ea0b9c07ed496a8f7cf308eaed9bcd": {
          "model_module": "@jupyter-widgets/controls",
          "model_name": "FloatProgressModel",
          "model_module_version": "1.5.0",
          "state": {
            "_dom_classes": [],
            "_model_module": "@jupyter-widgets/controls",
            "_model_module_version": "1.5.0",
            "_model_name": "FloatProgressModel",
            "_view_count": null,
            "_view_module": "@jupyter-widgets/controls",
            "_view_module_version": "1.5.0",
            "_view_name": "ProgressView",
            "bar_style": "success",
            "description": "",
            "description_tooltip": null,
            "layout": "IPY_MODEL_a8dfae3ab0844914b98bac0165e223d9",
            "max": 4542,
            "min": 0,
            "orientation": "horizontal",
            "style": "IPY_MODEL_9f274a37d8104474a6e5deb0e441405e",
            "value": 4542
          }
        },
        "2607b56122a54e2ca9fe531a0427d1b2": {
          "model_module": "@jupyter-widgets/controls",
          "model_name": "HTMLModel",
          "model_module_version": "1.5.0",
          "state": {
            "_dom_classes": [],
            "_model_module": "@jupyter-widgets/controls",
            "_model_module_version": "1.5.0",
            "_model_name": "HTMLModel",
            "_view_count": null,
            "_view_module": "@jupyter-widgets/controls",
            "_view_module_version": "1.5.0",
            "_view_name": "HTMLView",
            "description": "",
            "description_tooltip": null,
            "layout": "IPY_MODEL_38245cf13e104bf3ac1a979a72fcba4e",
            "placeholder": "​",
            "style": "IPY_MODEL_5b17b9fbb28040bc8c8ff3128b44665e",
            "value": " 5120/? [00:00&lt;00:00, 125674.24it/s]"
          }
        },
        "4f28972f09cb44a49fb2947b9f73be0c": {
          "model_module": "@jupyter-widgets/base",
          "model_name": "LayoutModel",
          "model_module_version": "1.2.0",
          "state": {
            "_model_module": "@jupyter-widgets/base",
            "_model_module_version": "1.2.0",
            "_model_name": "LayoutModel",
            "_view_count": null,
            "_view_module": "@jupyter-widgets/base",
            "_view_module_version": "1.2.0",
            "_view_name": "LayoutView",
            "align_content": null,
            "align_items": null,
            "align_self": null,
            "border": null,
            "bottom": null,
            "display": null,
            "flex": null,
            "flex_flow": null,
            "grid_area": null,
            "grid_auto_columns": null,
            "grid_auto_flow": null,
            "grid_auto_rows": null,
            "grid_column": null,
            "grid_gap": null,
            "grid_row": null,
            "grid_template_areas": null,
            "grid_template_columns": null,
            "grid_template_rows": null,
            "height": null,
            "justify_content": null,
            "justify_items": null,
            "left": null,
            "margin": null,
            "max_height": null,
            "max_width": null,
            "min_height": null,
            "min_width": null,
            "object_fit": null,
            "object_position": null,
            "order": null,
            "overflow": null,
            "overflow_x": null,
            "overflow_y": null,
            "padding": null,
            "right": null,
            "top": null,
            "visibility": null,
            "width": null
          }
        },
        "cb0909fcee404e36b5ba78f8f5915762": {
          "model_module": "@jupyter-widgets/base",
          "model_name": "LayoutModel",
          "model_module_version": "1.2.0",
          "state": {
            "_model_module": "@jupyter-widgets/base",
            "_model_module_version": "1.2.0",
            "_model_name": "LayoutModel",
            "_view_count": null,
            "_view_module": "@jupyter-widgets/base",
            "_view_module_version": "1.2.0",
            "_view_name": "LayoutView",
            "align_content": null,
            "align_items": null,
            "align_self": null,
            "border": null,
            "bottom": null,
            "display": null,
            "flex": null,
            "flex_flow": null,
            "grid_area": null,
            "grid_auto_columns": null,
            "grid_auto_flow": null,
            "grid_auto_rows": null,
            "grid_column": null,
            "grid_gap": null,
            "grid_row": null,
            "grid_template_areas": null,
            "grid_template_columns": null,
            "grid_template_rows": null,
            "height": null,
            "justify_content": null,
            "justify_items": null,
            "left": null,
            "margin": null,
            "max_height": null,
            "max_width": null,
            "min_height": null,
            "min_width": null,
            "object_fit": null,
            "object_position": null,
            "order": null,
            "overflow": null,
            "overflow_x": null,
            "overflow_y": null,
            "padding": null,
            "right": null,
            "top": null,
            "visibility": null,
            "width": null
          }
        },
        "cd768054100b434c8800f4361ed9edd3": {
          "model_module": "@jupyter-widgets/controls",
          "model_name": "DescriptionStyleModel",
          "model_module_version": "1.5.0",
          "state": {
            "_model_module": "@jupyter-widgets/controls",
            "_model_module_version": "1.5.0",
            "_model_name": "DescriptionStyleModel",
            "_view_count": null,
            "_view_module": "@jupyter-widgets/base",
            "_view_module_version": "1.2.0",
            "_view_name": "StyleView",
            "description_width": ""
          }
        },
        "a8dfae3ab0844914b98bac0165e223d9": {
          "model_module": "@jupyter-widgets/base",
          "model_name": "LayoutModel",
          "model_module_version": "1.2.0",
          "state": {
            "_model_module": "@jupyter-widgets/base",
            "_model_module_version": "1.2.0",
            "_model_name": "LayoutModel",
            "_view_count": null,
            "_view_module": "@jupyter-widgets/base",
            "_view_module_version": "1.2.0",
            "_view_name": "LayoutView",
            "align_content": null,
            "align_items": null,
            "align_self": null,
            "border": null,
            "bottom": null,
            "display": null,
            "flex": null,
            "flex_flow": null,
            "grid_area": null,
            "grid_auto_columns": null,
            "grid_auto_flow": null,
            "grid_auto_rows": null,
            "grid_column": null,
            "grid_gap": null,
            "grid_row": null,
            "grid_template_areas": null,
            "grid_template_columns": null,
            "grid_template_rows": null,
            "height": null,
            "justify_content": null,
            "justify_items": null,
            "left": null,
            "margin": null,
            "max_height": null,
            "max_width": null,
            "min_height": null,
            "min_width": null,
            "object_fit": null,
            "object_position": null,
            "order": null,
            "overflow": null,
            "overflow_x": null,
            "overflow_y": null,
            "padding": null,
            "right": null,
            "top": null,
            "visibility": null,
            "width": null
          }
        },
        "9f274a37d8104474a6e5deb0e441405e": {
          "model_module": "@jupyter-widgets/controls",
          "model_name": "ProgressStyleModel",
          "model_module_version": "1.5.0",
          "state": {
            "_model_module": "@jupyter-widgets/controls",
            "_model_module_version": "1.5.0",
            "_model_name": "ProgressStyleModel",
            "_view_count": null,
            "_view_module": "@jupyter-widgets/base",
            "_view_module_version": "1.2.0",
            "_view_name": "StyleView",
            "bar_color": null,
            "description_width": ""
          }
        },
        "38245cf13e104bf3ac1a979a72fcba4e": {
          "model_module": "@jupyter-widgets/base",
          "model_name": "LayoutModel",
          "model_module_version": "1.2.0",
          "state": {
            "_model_module": "@jupyter-widgets/base",
            "_model_module_version": "1.2.0",
            "_model_name": "LayoutModel",
            "_view_count": null,
            "_view_module": "@jupyter-widgets/base",
            "_view_module_version": "1.2.0",
            "_view_name": "LayoutView",
            "align_content": null,
            "align_items": null,
            "align_self": null,
            "border": null,
            "bottom": null,
            "display": null,
            "flex": null,
            "flex_flow": null,
            "grid_area": null,
            "grid_auto_columns": null,
            "grid_auto_flow": null,
            "grid_auto_rows": null,
            "grid_column": null,
            "grid_gap": null,
            "grid_row": null,
            "grid_template_areas": null,
            "grid_template_columns": null,
            "grid_template_rows": null,
            "height": null,
            "justify_content": null,
            "justify_items": null,
            "left": null,
            "margin": null,
            "max_height": null,
            "max_width": null,
            "min_height": null,
            "min_width": null,
            "object_fit": null,
            "object_position": null,
            "order": null,
            "overflow": null,
            "overflow_x": null,
            "overflow_y": null,
            "padding": null,
            "right": null,
            "top": null,
            "visibility": null,
            "width": null
          }
        },
        "5b17b9fbb28040bc8c8ff3128b44665e": {
          "model_module": "@jupyter-widgets/controls",
          "model_name": "DescriptionStyleModel",
          "model_module_version": "1.5.0",
          "state": {
            "_model_module": "@jupyter-widgets/controls",
            "_model_module_version": "1.5.0",
            "_model_name": "DescriptionStyleModel",
            "_view_count": null,
            "_view_module": "@jupyter-widgets/base",
            "_view_module_version": "1.2.0",
            "_view_name": "StyleView",
            "description_width": ""
          }
        }
      }
    }
  },
  "cells": [
    {
      "cell_type": "markdown",
      "metadata": {
        "id": "view-in-github",
        "colab_type": "text"
      },
      "source": [
        "<a href=\"https://colab.research.google.com/github/sudama-Inc/GANs-Projects/blob/main/MNIST_Generator_GAN_ipynb.ipynb\" target=\"_parent\"><img src=\"https://colab.research.google.com/assets/colab-badge.svg\" alt=\"Open In Colab\"/></a>"
      ]
    },
    {
      "cell_type": "code",
      "execution_count": 1,
      "metadata": {
        "id": "Aet4wZduQiZB"
      },
      "outputs": [],
      "source": [
        "import torch\n",
        "import torchvision\n",
        "from torchvision.transforms import ToTensor, Normalize, Compose\n",
        "from torchvision.datasets import MNIST"
      ]
    },
    {
      "cell_type": "code",
      "source": [
        "mnist = MNIST(root='data', train=True, download=True, transform=Compose([ToTensor(), Normalize(mean=(0.5,), std=(0.5,))]))"
      ],
      "metadata": {
        "colab": {
          "base_uri": "https://localhost:8080/",
          "height": 423,
          "referenced_widgets": [
            "4d192df0765745dab5bf707ab186c9d6",
            "b781412698c74dd59919971ed14ecd64",
            "a6a51691a5ce419a9d383f58d20c82a2",
            "e3341aaf9bea44e29aff6721f5d44660",
            "ca8310e2848f4a70bc9ec8b619133e4f",
            "bf6cedcaf84f496d8a6df9c5501d9d3b",
            "6dfb7fe6e6bc4259beb8e292a533da8b",
            "bd648595187f453d855e02c072eb6778",
            "6a4f8a268d374a888aef0b6dd1096cbb",
            "736410588c234694976058ff5d7eab08",
            "4d0ab3f6bcdf41ffa3e37d3e504ddd3b",
            "743a1b601e634eddaf13ca81864b6da6",
            "a09db304af9c495ca3654c362f22ae70",
            "c5d790e9b91648d7b7a3ba98c51b6f3f",
            "6ad46e079afa406488afa490a25c207b",
            "58f9ae1bd62c4384a880a604829d66fe",
            "b8b3a958f36f4be7ad088f88cdaf0b1e",
            "865ff32ffe5e41f887aa8471f95ecb88",
            "34c96ac709c24bb9a5cf2a261a467438",
            "a7726a1510a944349f12bc277416046d",
            "4fe97f6324944952989a3798c1719ede",
            "f9a8622b61b24db688b0257a7614b008",
            "fdb1558cc1bf4857938d47a42d0addce",
            "02bccd75e3b24f1faa0bd12d09dbaffc",
            "4198aba422634332ae0b89b0c23c370b",
            "5a4f2e0627c94002a23299dd99fc8f66",
            "d8b1c7de646d4395b72ecdbcf8b62812",
            "5db146e8d96047fab9203f925d75a71d",
            "61d5759d4e89491599b2a694d9d914bb",
            "e6d9f1d427ec4684a8d49e85bb1dd558",
            "ddf8d61ba48c48ceb1651c2b612b92cb",
            "8a5a28f0195a4565903e2edbce77768d",
            "5009c4c995394b1b8af66b73c94be4f9",
            "196c9c0f350443d68b3a61da28860b96",
            "fdc810750de14ea0a2f7784084fa6cc7",
            "e5ea0b9c07ed496a8f7cf308eaed9bcd",
            "2607b56122a54e2ca9fe531a0427d1b2",
            "4f28972f09cb44a49fb2947b9f73be0c",
            "cb0909fcee404e36b5ba78f8f5915762",
            "cd768054100b434c8800f4361ed9edd3",
            "a8dfae3ab0844914b98bac0165e223d9",
            "9f274a37d8104474a6e5deb0e441405e",
            "38245cf13e104bf3ac1a979a72fcba4e",
            "5b17b9fbb28040bc8c8ff3128b44665e"
          ]
        },
        "id": "B2eX0QC-Qu-Y",
        "outputId": "d7c46641-9883-4544-9441-1c2d798bd011"
      },
      "execution_count": 4,
      "outputs": [
        {
          "output_type": "stream",
          "name": "stdout",
          "text": [
            "Downloading http://yann.lecun.com/exdb/mnist/train-images-idx3-ubyte.gz\n",
            "Downloading http://yann.lecun.com/exdb/mnist/train-images-idx3-ubyte.gz to data/MNIST/raw/train-images-idx3-ubyte.gz\n"
          ]
        },
        {
          "output_type": "display_data",
          "data": {
            "text/plain": [
              "  0%|          | 0/9912422 [00:00<?, ?it/s]"
            ],
            "application/vnd.jupyter.widget-view+json": {
              "version_major": 2,
              "version_minor": 0,
              "model_id": "4d192df0765745dab5bf707ab186c9d6"
            }
          },
          "metadata": {}
        },
        {
          "output_type": "stream",
          "name": "stdout",
          "text": [
            "Extracting data/MNIST/raw/train-images-idx3-ubyte.gz to data/MNIST/raw\n",
            "\n",
            "Downloading http://yann.lecun.com/exdb/mnist/train-labels-idx1-ubyte.gz\n",
            "Downloading http://yann.lecun.com/exdb/mnist/train-labels-idx1-ubyte.gz to data/MNIST/raw/train-labels-idx1-ubyte.gz\n"
          ]
        },
        {
          "output_type": "display_data",
          "data": {
            "text/plain": [
              "  0%|          | 0/28881 [00:00<?, ?it/s]"
            ],
            "application/vnd.jupyter.widget-view+json": {
              "version_major": 2,
              "version_minor": 0,
              "model_id": "743a1b601e634eddaf13ca81864b6da6"
            }
          },
          "metadata": {}
        },
        {
          "output_type": "stream",
          "name": "stdout",
          "text": [
            "Extracting data/MNIST/raw/train-labels-idx1-ubyte.gz to data/MNIST/raw\n",
            "\n",
            "Downloading http://yann.lecun.com/exdb/mnist/t10k-images-idx3-ubyte.gz\n",
            "Downloading http://yann.lecun.com/exdb/mnist/t10k-images-idx3-ubyte.gz to data/MNIST/raw/t10k-images-idx3-ubyte.gz\n"
          ]
        },
        {
          "output_type": "display_data",
          "data": {
            "text/plain": [
              "  0%|          | 0/1648877 [00:00<?, ?it/s]"
            ],
            "application/vnd.jupyter.widget-view+json": {
              "version_major": 2,
              "version_minor": 0,
              "model_id": "fdb1558cc1bf4857938d47a42d0addce"
            }
          },
          "metadata": {}
        },
        {
          "output_type": "stream",
          "name": "stdout",
          "text": [
            "Extracting data/MNIST/raw/t10k-images-idx3-ubyte.gz to data/MNIST/raw\n",
            "\n",
            "Downloading http://yann.lecun.com/exdb/mnist/t10k-labels-idx1-ubyte.gz\n",
            "Downloading http://yann.lecun.com/exdb/mnist/t10k-labels-idx1-ubyte.gz to data/MNIST/raw/t10k-labels-idx1-ubyte.gz\n"
          ]
        },
        {
          "output_type": "display_data",
          "data": {
            "text/plain": [
              "  0%|          | 0/4542 [00:00<?, ?it/s]"
            ],
            "application/vnd.jupyter.widget-view+json": {
              "version_major": 2,
              "version_minor": 0,
              "model_id": "196c9c0f350443d68b3a61da28860b96"
            }
          },
          "metadata": {}
        },
        {
          "output_type": "stream",
          "name": "stdout",
          "text": [
            "Extracting data/MNIST/raw/t10k-labels-idx1-ubyte.gz to data/MNIST/raw\n",
            "\n"
          ]
        }
      ]
    },
    {
      "cell_type": "code",
      "source": [
        "img, label = mnist[0]\n",
        "print('Label: ', label)\n",
        "print(img[:,10:15,10:15])\n",
        "torch.min(img), torch.max(img)"
      ],
      "metadata": {
        "colab": {
          "base_uri": "https://localhost:8080/"
        },
        "id": "D1glLP2bQ2zq",
        "outputId": "791f408a-8d1f-4e10-88fe-80eabe5cb9e0"
      },
      "execution_count": 5,
      "outputs": [
        {
          "output_type": "stream",
          "name": "stdout",
          "text": [
            "Label:  5\n",
            "tensor([[[-0.9922,  0.2078,  0.9843, -0.2941, -1.0000],\n",
            "         [-1.0000,  0.0902,  0.9843,  0.4902, -0.9843],\n",
            "         [-1.0000, -0.9137,  0.4902,  0.9843, -0.4510],\n",
            "         [-1.0000, -1.0000, -0.7255,  0.8902,  0.7647],\n",
            "         [-1.0000, -1.0000, -1.0000, -0.3647,  0.8824]]])\n"
          ]
        },
        {
          "output_type": "execute_result",
          "data": {
            "text/plain": [
              "(tensor(-1.), tensor(1.))"
            ]
          },
          "metadata": {},
          "execution_count": 5
        }
      ]
    },
    {
      "cell_type": "code",
      "source": [
        "def denorm(x):\n",
        "    out = (x + 1) / 2\n",
        "    return out.clamp(0, 1)"
      ],
      "metadata": {
        "id": "fypYAPkkRCIW"
      },
      "execution_count": 6,
      "outputs": []
    },
    {
      "cell_type": "code",
      "source": [
        "import matplotlib.pyplot as plt\n",
        "%matplotlib inline\n",
        "\n",
        "img_norm = denorm(img)\n",
        "plt.imshow(img_norm[0], cmap='gray')\n",
        "print('Label:', label)"
      ],
      "metadata": {
        "colab": {
          "base_uri": "https://localhost:8080/",
          "height": 283
        },
        "id": "5tJ7JzunREaZ",
        "outputId": "b8c7136c-4f89-4805-bde3-47f7cb915eae"
      },
      "execution_count": 7,
      "outputs": [
        {
          "output_type": "stream",
          "name": "stdout",
          "text": [
            "Label: 5\n"
          ]
        },
        {
          "output_type": "display_data",
          "data": {
            "text/plain": [
              "<Figure size 432x288 with 1 Axes>"
            ],
            "image/png": "[encoded data removed]"
          },
          "metadata": {
            "needs_background": "light"
          }
        }
      ]
    },
    {
      "cell_type": "code",
      "source": [
        "from torch.utils.data import DataLoader\n",
        "\n",
        "batch_size = 100\n",
        "data_loader = DataLoader(mnist, batch_size, shuffle=True)"
      ],
      "metadata": {
        "id": "znliqr2WRGgC"
      },
      "execution_count": 8,
      "outputs": []
    },
    {
      "cell_type": "code",
      "source": [
        "for img_batch, label_batch in data_loader:\n",
        "    print('first batch')\n",
        "    print(img_batch.shape)\n",
        "    plt.imshow(img_batch[0][0], cmap='gray')\n",
        "    print(label_batch)\n",
        "    break"
      ],
      "metadata": {
        "colab": {
          "base_uri": "https://localhost:8080/",
          "height": 387
        },
        "id": "kx0nxZD1RJij",
        "outputId": "1518da93-ba2c-4590-de4f-d074333cbb4d"
      },
      "execution_count": 9,
      "outputs": [
        {
          "output_type": "stream",
          "name": "stdout",
          "text": [
            "first batch\n",
            "torch.Size([100, 1, 28, 28])\n",
            "tensor([1, 6, 0, 2, 7, 3, 5, 2, 9, 0, 3, 3, 4, 7, 1, 2, 1, 5, 5, 2, 8, 4, 2, 9,\n",
            "        4, 0, 3, 9, 3, 3, 3, 1, 1, 4, 0, 2, 7, 1, 0, 2, 7, 0, 2, 9, 6, 6, 5, 8,\n",
            "        3, 8, 7, 4, 5, 4, 1, 7, 5, 7, 7, 0, 2, 2, 1, 8, 2, 5, 2, 4, 4, 8, 1, 1,\n",
            "        9, 0, 7, 5, 5, 6, 2, 6, 4, 7, 7, 0, 1, 0, 6, 3, 2, 1, 1, 6, 2, 3, 8, 7,\n",
            "        1, 3, 6, 0])\n"
          ]
        },
        {
          "output_type": "display_data",
          "data": {
            "text/plain": [
              "<Figure size 432x288 with 1 Axes>"
            ],
            "image/png": "[encoded data removed]"
          },
          "metadata": {
            "needs_background": "light"
          }
        }
      ]
    },
    {
      "cell_type": "code",
      "source": [
        "device = torch.device('cuda' if torch.cuda.is_available() else 'cpu')"
      ],
      "metadata": {
        "id": "HHmVgk9NRLUV"
      },
      "execution_count": 10,
      "outputs": []
    },
    {
      "cell_type": "code",
      "source": [
        "device"
      ],
      "metadata": {
        "colab": {
          "base_uri": "https://localhost:8080/"
        },
        "id": "i3oEz67QRPEA",
        "outputId": "11db49a0-b7db-4834-e48f-7f376f68bf6b"
      },
      "execution_count": 11,
      "outputs": [
        {
          "output_type": "execute_result",
          "data": {
            "text/plain": [
              "device(type='cuda')"
            ]
          },
          "metadata": {},
          "execution_count": 11
        }
      ]
    },
    {
      "cell_type": "code",
      "source": [
        "image_size = 784\n",
        "hidden_size = 256\n"
      ],
      "metadata": {
        "id": "XFPf94ekRQjw"
      },
      "execution_count": 12,
      "outputs": []
    },
    {
      "cell_type": "code",
      "source": [
        "import torch.nn as nn\n",
        "\n",
        "D = nn.Sequential(\n",
        "    nn.Linear(image_size, hidden_size),\n",
        "    nn.LeakyReLU(0.2),\n",
        "    nn.Linear(hidden_size, hidden_size),\n",
        "    nn.LeakyReLU(0.2),\n",
        "    nn.Linear(hidden_size, 1),\n",
        "    nn.Sigmoid())"
      ],
      "metadata": {
        "id": "DZ1SvbTNRSuB"
      },
      "execution_count": 13,
      "outputs": []
    },
    {
      "cell_type": "code",
      "source": [
        "D.to(device);"
      ],
      "metadata": {
        "id": "Gqh1cePcRUkx"
      },
      "execution_count": 14,
      "outputs": []
    },
    {
      "cell_type": "code",
      "source": [
        "latent_size = 64"
      ],
      "metadata": {
        "id": "Kz8ZUHtMRW50"
      },
      "execution_count": 15,
      "outputs": []
    },
    {
      "cell_type": "code",
      "source": [
        "G = nn.Sequential(\n",
        "    nn.Linear(latent_size, hidden_size),\n",
        "    nn.ReLU(),\n",
        "    nn.Linear(hidden_size, hidden_size),\n",
        "    nn.ReLU(),\n",
        "    nn.Linear(hidden_size, image_size),\n",
        "    nn.Tanh())\n"
      ],
      "metadata": {
        "id": "-LT_jqmSRaN-"
      },
      "execution_count": 16,
      "outputs": []
    },
    {
      "cell_type": "code",
      "source": [
        "y = G(torch.randn(2, latent_size))\n",
        "gen_imgs = denorm(y.reshape((-1, 28,28)).detach())"
      ],
      "metadata": {
        "id": "K-M_eXxiRcTO"
      },
      "execution_count": 17,
      "outputs": []
    },
    {
      "cell_type": "code",
      "source": [
        "plt.imshow(gen_imgs[0], cmap='gray');"
      ],
      "metadata": {
        "colab": {
          "base_uri": "https://localhost:8080/",
          "height": 265
        },
        "id": "sj5plc-XReS_",
        "outputId": "546a04cb-00c6-4b35-d217-75b3810ffb09"
      },
      "execution_count": 18,
      "outputs": [
        {
          "output_type": "display_data",
          "data": {
            "text/plain": [
              "<Figure size 432x288 with 1 Axes>"
            ],
            "image/png": "[encoded data removed]"
          },
          "metadata": {
            "needs_background": "light"
          }
        }
      ]
    },
    {
      "cell_type": "code",
      "source": [
        "!nvidia-smi       # To check the list of GPUs \n"
      ],
      "metadata": {
        "colab": {
          "base_uri": "https://localhost:8080/"
        },
        "id": "hFbX-zT4RgAa",
        "outputId": "3b27d71f-c8af-4f18-f87d-c09f02de6cca"
      },
      "execution_count": 19,
      "outputs": [
        {
          "output_type": "stream",
          "name": "stdout",
          "text": [
            "Mon May 16 23:48:44 2022       \n",
            "+-----------------------------------------------------------------------------+\n",
            "| NVIDIA-SMI 460.32.03    Driver Version: 460.32.03    CUDA Version: 11.2     |\n",
            "|-------------------------------+----------------------+----------------------+\n",
            "| GPU  Name        Persistence-M| Bus-Id        Disp.A | Volatile Uncorr. ECC |\n",
            "| Fan  Temp  Perf  Pwr:Usage/Cap|         Memory-Usage | GPU-Util  Compute M. |\n",
            "|                               |                      |               MIG M. |\n",
            "|===============================+======================+======================|\n",
            "|   0  Tesla K80           Off  | 00000000:00:04.0 Off |                    0 |\n",
            "| N/A   42C    P0    59W / 149W |    487MiB / 11441MiB |      0%      Default |\n",
            "|                               |                      |                  N/A |\n",
            "+-------------------------------+----------------------+----------------------+\n",
            "                                                                               \n",
            "+-----------------------------------------------------------------------------+\n",
            "| Processes:                                                                  |\n",
            "|  GPU   GI   CI        PID   Type   Process name                  GPU Memory |\n",
            "|        ID   ID                                                   Usage      |\n",
            "|=============================================================================|\n",
            "+-----------------------------------------------------------------------------+\n"
          ]
        }
      ]
    },
    {
      "cell_type": "code",
      "source": [
        "G.to(device);"
      ],
      "metadata": {
        "id": "oIbBfzjDRifY"
      },
      "execution_count": 20,
      "outputs": []
    },
    {
      "cell_type": "code",
      "source": [
        "criterion = nn.BCELoss()\n",
        "d_optimizer = torch.optim.Adam(D.parameters(), lr=0.0002)\n"
      ],
      "metadata": {
        "id": "2YJoK7srRrPH"
      },
      "execution_count": 21,
      "outputs": []
    },
    {
      "cell_type": "code",
      "source": [
        "def reset_grad():\n",
        "    d_optimizer.zero_grad()\n",
        "    g_optimizer.zero_grad()\n",
        "\n",
        "def train_discriminator(images):\n",
        "    # Create the labels which are later used as input for the BCE loss\n",
        "    real_labels = torch.ones(batch_size, 1).to(device)\n",
        "    fake_labels = torch.zeros(batch_size, 1).to(device)\n",
        "        \n",
        "    # Loss for real images\n",
        "    outputs = D(images)\n",
        "    d_loss_real = criterion(outputs, real_labels)\n",
        "    real_score = outputs\n",
        "\n",
        "    # Loss for fake images\n",
        "    z = torch.randn(batch_size, latent_size).to(device)\n",
        "    fake_images = G(z)\n",
        "    outputs = D(fake_images)\n",
        "    d_loss_fake = criterion(outputs, fake_labels)\n",
        "    fake_score = outputs\n",
        "\n",
        "    # Combine losses\n",
        "    d_loss = d_loss_real + d_loss_fake\n",
        "    # Reset gradients\n",
        "    reset_grad()\n",
        "    # Compute gradients\n",
        "    d_loss.backward()\n",
        "    # Adjust the parameters using backprop\n",
        "    d_optimizer.step()\n",
        "    \n",
        "    return d_loss, real_score, fake_score"
      ],
      "metadata": {
        "id": "IrPERZPcRtJK"
      },
      "execution_count": 22,
      "outputs": []
    },
    {
      "cell_type": "code",
      "source": [
        "g_optimizer = torch.optim.Adam(G.parameters(), lr=0.0002)"
      ],
      "metadata": {
        "id": "o6bkUKSFRvtq"
      },
      "execution_count": 23,
      "outputs": []
    },
    {
      "cell_type": "code",
      "source": [
        "def train_generator():\n",
        "    # Generate fake images and calculate loss\n",
        "    z = torch.randn(batch_size, latent_size).to(device)\n",
        "    fake_images = G(z)\n",
        "    labels = torch.ones(batch_size, 1).to(device)\n",
        "    g_loss = criterion(D(fake_images), labels)\n",
        "\n",
        "    # Backprop and optimize\n",
        "    reset_grad()\n",
        "    g_loss.backward()\n",
        "    g_optimizer.step()\n",
        "    return g_loss, fake_images"
      ],
      "metadata": {
        "id": "kR_Gl6K0Rx0z"
      },
      "execution_count": 24,
      "outputs": []
    },
    {
      "cell_type": "code",
      "source": [
        "import os\n",
        "\n",
        "sample_dir = 'samples'\n",
        "if not os.path.exists(sample_dir):\n",
        "    os.makedirs(sample_dir)\n",
        "    "
      ],
      "metadata": {
        "id": "4kHVjp2SRzpx"
      },
      "execution_count": 25,
      "outputs": []
    },
    {
      "cell_type": "code",
      "source": [
        "from IPython.display import Image\n",
        "from torchvision.utils import save_image\n",
        "\n",
        "# Save some real images\n",
        "for images, _ in data_loader:\n",
        "    images = images.reshape(images.size(0), 1, 28, 28)\n",
        "    save_image(denorm(images), os.path.join(sample_dir, 'real_images.png'), nrow=10)\n",
        "    break\n",
        "   \n",
        "Image(os.path.join(sample_dir, 'real_images.png'))"
      ],
      "metadata": {
        "colab": {
          "base_uri": "https://localhost:8080/",
          "height": 319
        },
        "id": "89okEdNlR1p0",
        "outputId": "695d9095-3675-4695-a343-6cb71b866687"
      },
      "execution_count": 26,
      "outputs": [
        {
          "output_type": "execute_result",
          "data": {
            "text/plain": [
              "<IPython.core.display.Image object>"
            ],
            "image/png": "[encoded data removed]"
          },
          "metadata": {},
          "execution_count": 26
        }
      ]
    },
    {
      "cell_type": "code",
      "source": [
        "sample_vectors = torch.randn(batch_size, latent_size).to(device)\n",
        "\n",
        "def save_fake_images(index):\n",
        "    fake_images = G(sample_vectors)\n",
        "    fake_images = fake_images.reshape(fake_images.size(0), 1, 28, 28)\n",
        "    fake_fname = 'fake_images-{0:0=4d}.png'.format(index)\n",
        "    print('Saving', fake_fname)\n",
        "    save_image(denorm(fake_images), os.path.join(sample_dir, fake_fname), nrow=10)\n",
        "    \n",
        "# Before training\n",
        "save_fake_images(0)\n",
        "Image(os.path.join(sample_dir, 'fake_images-0000.png'))"
      ],
      "metadata": {
        "colab": {
          "base_uri": "https://localhost:8080/",
          "height": 337
        },
        "id": "JjVXUpllR3ld",
        "outputId": "cae11371-9d25-4228-814d-b6b5c1743dc6"
      },
      "execution_count": 27,
      "outputs": [
        {
          "output_type": "stream",
          "name": "stdout",
          "text": [
            "Saving fake_images-0000.png\n"
          ]
        },
        {
          "output_type": "execute_result",
          "data": {
            "text/plain": [
              "<IPython.core.display.Image object>"
            ],
            "image/png": "[encoded data removed]"
          },
          "metadata": {},
          "execution_count": 27
        }
      ]
    },
    {
      "cell_type": "code",
      "source": [
        "%%time\n",
        "\n",
        "num_epochs = 100\n",
        "total_step = len(data_loader)\n",
        "d_losses, g_losses, real_scores, fake_scores = [], [], [], []\n",
        "\n",
        "for epoch in range(num_epochs):\n",
        "    for i, (images, _) in enumerate(data_loader):\n",
        "        # Load a batch & transform to vectors\n",
        "        images = images.reshape(batch_size, -1).to(device)\n",
        "        \n",
        "        # Train the discriminator and generator\n",
        "        d_loss, real_score, fake_score = train_discriminator(images)\n",
        "        g_loss, fake_images = train_generator()\n",
        "        \n",
        "        # Inspect the losses\n",
        "        if (i+1) % 200 == 0:\n",
        "            d_losses.append(d_loss.item())\n",
        "            g_losses.append(g_loss.item())\n",
        "            real_scores.append(real_score.mean().item())\n",
        "            fake_scores.append(fake_score.mean().item())\n",
        "            print('Epoch [{}/{}], Step [{}/{}], d_loss: {:.4f}, g_loss: {:.4f}, D(x): {:.2f}, D(G(z)): {:.2f}' \n",
        "                  .format(epoch, num_epochs, i+1, total_step, d_loss.item(), g_loss.item(), \n",
        "                          real_score.mean().item(), fake_score.mean().item()))\n",
        "        \n",
        "    # Sample and save images\n",
        "    save_fake_images(epoch+1)"
      ],
      "metadata": {
        "colab": {
          "base_uri": "https://localhost:8080/"
        },
        "id": "kotESFdVR5og",
        "outputId": "a9d8d86f-656f-4b8b-8fa6-fa2f85986e4d"
      },
      "execution_count": 28,
      "outputs": [
        {
          "output_type": "stream",
          "name": "stdout",
          "text": [
            "Epoch [0/100], Step [200/600], d_loss: 0.0462, g_loss: 4.1540, D(x): 0.99, D(G(z)): 0.04\n",
            "Epoch [0/100], Step [400/600], d_loss: 0.0235, g_loss: 6.1807, D(x): 1.00, D(G(z)): 0.02\n",
            "Epoch [0/100], Step [600/600], d_loss: 0.0683, g_loss: 5.1664, D(x): 0.97, D(G(z)): 0.04\n",
            "Saving fake_images-0001.png\n",
            "Epoch [1/100], Step [200/600], d_loss: 0.0461, g_loss: 4.7848, D(x): 0.99, D(G(z)): 0.03\n",
            "Epoch [1/100], Step [400/600], d_loss: 0.5065, g_loss: 4.5623, D(x): 0.94, D(G(z)): 0.32\n",
            "Epoch [1/100], Step [600/600], d_loss: 0.2729, g_loss: 3.2607, D(x): 0.90, D(G(z)): 0.10\n",
            "Saving fake_images-0002.png\n",
            "Epoch [2/100], Step [200/600], d_loss: 0.3880, g_loss: 3.7676, D(x): 0.86, D(G(z)): 0.08\n",
            "Epoch [2/100], Step [400/600], d_loss: 0.7379, g_loss: 2.1203, D(x): 0.80, D(G(z)): 0.25\n",
            "Epoch [2/100], Step [600/600], d_loss: 0.0743, g_loss: 5.3299, D(x): 0.98, D(G(z)): 0.04\n",
            "Saving fake_images-0003.png\n",
            "Epoch [3/100], Step [200/600], d_loss: 0.7052, g_loss: 2.8584, D(x): 0.81, D(G(z)): 0.24\n",
            "Epoch [3/100], Step [400/600], d_loss: 0.7889, g_loss: 1.9012, D(x): 0.81, D(G(z)): 0.35\n",
            "Epoch [3/100], Step [600/600], d_loss: 0.4220, g_loss: 3.2313, D(x): 0.84, D(G(z)): 0.14\n",
            "Saving fake_images-0004.png\n",
            "Epoch [4/100], Step [200/600], d_loss: 0.4034, g_loss: 3.7102, D(x): 0.88, D(G(z)): 0.11\n",
            "Epoch [4/100], Step [400/600], d_loss: 0.3857, g_loss: 3.4952, D(x): 0.90, D(G(z)): 0.20\n",
            "Epoch [4/100], Step [600/600], d_loss: 0.3826, g_loss: 2.9647, D(x): 0.90, D(G(z)): 0.15\n",
            "Saving fake_images-0005.png\n",
            "Epoch [5/100], Step [200/600], d_loss: 0.2402, g_loss: 3.5522, D(x): 0.95, D(G(z)): 0.10\n",
            "Epoch [5/100], Step [400/600], d_loss: 0.8333, g_loss: 4.2438, D(x): 0.87, D(G(z)): 0.29\n",
            "Epoch [5/100], Step [600/600], d_loss: 0.5325, g_loss: 3.7279, D(x): 0.80, D(G(z)): 0.04\n",
            "Saving fake_images-0006.png\n",
            "Epoch [6/100], Step [200/600], d_loss: 0.3860, g_loss: 3.8661, D(x): 0.88, D(G(z)): 0.07\n",
            "Epoch [6/100], Step [400/600], d_loss: 0.1617, g_loss: 3.3483, D(x): 0.95, D(G(z)): 0.07\n",
            "Epoch [6/100], Step [600/600], d_loss: 0.2457, g_loss: 2.4184, D(x): 0.92, D(G(z)): 0.11\n",
            "Saving fake_images-0007.png\n",
            "Epoch [7/100], Step [200/600], d_loss: 0.2400, g_loss: 3.4355, D(x): 0.90, D(G(z)): 0.05\n",
            "Epoch [7/100], Step [400/600], d_loss: 0.1316, g_loss: 5.0296, D(x): 0.96, D(G(z)): 0.02\n",
            "Epoch [7/100], Step [600/600], d_loss: 0.6521, g_loss: 1.9140, D(x): 0.88, D(G(z)): 0.22\n",
            "Saving fake_images-0008.png\n",
            "Epoch [8/100], Step [200/600], d_loss: 0.4516, g_loss: 3.9400, D(x): 0.91, D(G(z)): 0.10\n",
            "Epoch [8/100], Step [400/600], d_loss: 0.2879, g_loss: 5.2106, D(x): 0.90, D(G(z)): 0.05\n",
            "Epoch [8/100], Step [600/600], d_loss: 0.6380, g_loss: 3.2416, D(x): 0.83, D(G(z)): 0.11\n",
            "Saving fake_images-0009.png\n",
            "Epoch [9/100], Step [200/600], d_loss: 0.2980, g_loss: 3.3912, D(x): 0.96, D(G(z)): 0.18\n",
            "Epoch [9/100], Step [400/600], d_loss: 0.4557, g_loss: 3.8453, D(x): 0.81, D(G(z)): 0.03\n",
            "Epoch [9/100], Step [600/600], d_loss: 0.4133, g_loss: 3.9727, D(x): 0.87, D(G(z)): 0.06\n",
            "Saving fake_images-0010.png\n",
            "Epoch [10/100], Step [200/600], d_loss: 0.3636, g_loss: 3.7646, D(x): 0.93, D(G(z)): 0.14\n",
            "Epoch [10/100], Step [400/600], d_loss: 0.6306, g_loss: 2.4894, D(x): 0.89, D(G(z)): 0.27\n",
            "Epoch [10/100], Step [600/600], d_loss: 0.2932, g_loss: 3.9624, D(x): 0.90, D(G(z)): 0.12\n",
            "Saving fake_images-0011.png\n",
            "Epoch [11/100], Step [200/600], d_loss: 0.9192, g_loss: 3.0500, D(x): 0.75, D(G(z)): 0.12\n",
            "Epoch [11/100], Step [400/600], d_loss: 0.8787, g_loss: 2.5388, D(x): 0.82, D(G(z)): 0.30\n",
            "Epoch [11/100], Step [600/600], d_loss: 0.2179, g_loss: 3.5333, D(x): 0.94, D(G(z)): 0.12\n",
            "Saving fake_images-0012.png\n",
            "Epoch [12/100], Step [200/600], d_loss: 0.2098, g_loss: 3.4749, D(x): 0.94, D(G(z)): 0.12\n",
            "Epoch [12/100], Step [400/600], d_loss: 0.2899, g_loss: 3.4773, D(x): 0.93, D(G(z)): 0.09\n",
            "Epoch [12/100], Step [600/600], d_loss: 0.1912, g_loss: 3.8785, D(x): 0.96, D(G(z)): 0.10\n",
            "Saving fake_images-0013.png\n",
            "Epoch [13/100], Step [200/600], d_loss: 0.3043, g_loss: 3.4830, D(x): 0.88, D(G(z)): 0.06\n",
            "Epoch [13/100], Step [400/600], d_loss: 0.2735, g_loss: 4.6886, D(x): 0.90, D(G(z)): 0.07\n",
            "Epoch [13/100], Step [600/600], d_loss: 0.3253, g_loss: 6.8741, D(x): 0.93, D(G(z)): 0.14\n",
            "Saving fake_images-0014.png\n",
            "Epoch [14/100], Step [200/600], d_loss: 0.2732, g_loss: 4.4376, D(x): 0.92, D(G(z)): 0.07\n",
            "Epoch [14/100], Step [400/600], d_loss: 0.2524, g_loss: 4.7205, D(x): 0.90, D(G(z)): 0.08\n",
            "Epoch [14/100], Step [600/600], d_loss: 0.2304, g_loss: 4.6153, D(x): 0.95, D(G(z)): 0.10\n",
            "Saving fake_images-0015.png\n",
            "Epoch [15/100], Step [200/600], d_loss: 0.2400, g_loss: 7.9632, D(x): 0.95, D(G(z)): 0.10\n",
            "Epoch [15/100], Step [400/600], d_loss: 0.1572, g_loss: 4.6223, D(x): 0.95, D(G(z)): 0.07\n",
            "Epoch [15/100], Step [600/600], d_loss: 0.3594, g_loss: 3.0831, D(x): 0.89, D(G(z)): 0.06\n",
            "Saving fake_images-0016.png\n",
            "Epoch [16/100], Step [200/600], d_loss: 0.2312, g_loss: 3.7468, D(x): 0.93, D(G(z)): 0.06\n",
            "Epoch [16/100], Step [400/600], d_loss: 0.2140, g_loss: 4.6523, D(x): 0.94, D(G(z)): 0.08\n",
            "Epoch [16/100], Step [600/600], d_loss: 0.3149, g_loss: 4.2136, D(x): 0.92, D(G(z)): 0.08\n",
            "Saving fake_images-0017.png\n",
            "Epoch [17/100], Step [200/600], d_loss: 0.2015, g_loss: 4.5054, D(x): 0.94, D(G(z)): 0.04\n",
            "Epoch [17/100], Step [400/600], d_loss: 0.2925, g_loss: 4.4119, D(x): 0.95, D(G(z)): 0.10\n",
            "Epoch [17/100], Step [600/600], d_loss: 0.1360, g_loss: 4.4762, D(x): 0.97, D(G(z)): 0.07\n",
            "Saving fake_images-0018.png\n",
            "Epoch [18/100], Step [200/600], d_loss: 0.1171, g_loss: 6.8158, D(x): 0.95, D(G(z)): 0.03\n",
            "Epoch [18/100], Step [400/600], d_loss: 0.2001, g_loss: 3.8746, D(x): 0.95, D(G(z)): 0.09\n",
            "Epoch [18/100], Step [600/600], d_loss: 0.1144, g_loss: 6.5056, D(x): 0.97, D(G(z)): 0.05\n",
            "Saving fake_images-0019.png\n",
            "Epoch [19/100], Step [200/600], d_loss: 0.1709, g_loss: 4.5929, D(x): 0.94, D(G(z)): 0.03\n",
            "Epoch [19/100], Step [400/600], d_loss: 0.1443, g_loss: 5.2736, D(x): 0.97, D(G(z)): 0.07\n",
            "Epoch [19/100], Step [600/600], d_loss: 0.1182, g_loss: 5.7931, D(x): 0.98, D(G(z)): 0.06\n",
            "Saving fake_images-0020.png\n",
            "Epoch [20/100], Step [200/600], d_loss: 0.4118, g_loss: 3.7050, D(x): 0.94, D(G(z)): 0.19\n",
            "Epoch [20/100], Step [400/600], d_loss: 0.2225, g_loss: 6.3138, D(x): 0.92, D(G(z)): 0.02\n",
            "Epoch [20/100], Step [600/600], d_loss: 0.1500, g_loss: 4.7061, D(x): 0.95, D(G(z)): 0.05\n",
            "Saving fake_images-0021.png\n",
            "Epoch [21/100], Step [200/600], d_loss: 0.2706, g_loss: 5.4889, D(x): 0.89, D(G(z)): 0.03\n",
            "Epoch [21/100], Step [400/600], d_loss: 0.3278, g_loss: 5.3656, D(x): 0.91, D(G(z)): 0.05\n",
            "Epoch [21/100], Step [600/600], d_loss: 0.1917, g_loss: 5.3364, D(x): 0.95, D(G(z)): 0.07\n",
            "Saving fake_images-0022.png\n",
            "Epoch [22/100], Step [200/600], d_loss: 0.5494, g_loss: 6.1357, D(x): 0.82, D(G(z)): 0.01\n",
            "Epoch [22/100], Step [400/600], d_loss: 0.3025, g_loss: 6.2713, D(x): 0.94, D(G(z)): 0.11\n",
            "Epoch [22/100], Step [600/600], d_loss: 0.1963, g_loss: 4.7338, D(x): 0.95, D(G(z)): 0.07\n",
            "Saving fake_images-0023.png\n",
            "Epoch [23/100], Step [200/600], d_loss: 0.4191, g_loss: 5.1910, D(x): 0.85, D(G(z)): 0.04\n",
            "Epoch [23/100], Step [400/600], d_loss: 0.2593, g_loss: 4.9900, D(x): 0.93, D(G(z)): 0.10\n",
            "Epoch [23/100], Step [600/600], d_loss: 0.1722, g_loss: 4.5503, D(x): 0.96, D(G(z)): 0.08\n",
            "Saving fake_images-0024.png\n",
            "Epoch [24/100], Step [200/600], d_loss: 0.3714, g_loss: 4.1469, D(x): 0.94, D(G(z)): 0.17\n",
            "Epoch [24/100], Step [400/600], d_loss: 0.1538, g_loss: 4.8376, D(x): 0.95, D(G(z)): 0.06\n",
            "Epoch [24/100], Step [600/600], d_loss: 0.1470, g_loss: 4.6281, D(x): 0.94, D(G(z)): 0.04\n",
            "Saving fake_images-0025.png\n",
            "Epoch [25/100], Step [200/600], d_loss: 0.2899, g_loss: 4.1974, D(x): 0.93, D(G(z)): 0.11\n",
            "Epoch [25/100], Step [400/600], d_loss: 0.1934, g_loss: 3.6536, D(x): 0.97, D(G(z)): 0.11\n",
            "Epoch [25/100], Step [600/600], d_loss: 0.4642, g_loss: 2.6876, D(x): 0.93, D(G(z)): 0.15\n",
            "Saving fake_images-0026.png\n",
            "Epoch [26/100], Step [200/600], d_loss: 0.2008, g_loss: 3.7739, D(x): 0.94, D(G(z)): 0.08\n",
            "Epoch [26/100], Step [400/600], d_loss: 0.2844, g_loss: 3.9100, D(x): 0.94, D(G(z)): 0.12\n",
            "Epoch [26/100], Step [600/600], d_loss: 0.3965, g_loss: 3.0496, D(x): 0.88, D(G(z)): 0.11\n",
            "Saving fake_images-0027.png\n",
            "Epoch [27/100], Step [200/600], d_loss: 0.2905, g_loss: 5.7868, D(x): 0.90, D(G(z)): 0.06\n",
            "Epoch [27/100], Step [400/600], d_loss: 0.4887, g_loss: 3.9214, D(x): 0.86, D(G(z)): 0.03\n",
            "Epoch [27/100], Step [600/600], d_loss: 0.2205, g_loss: 4.8260, D(x): 0.92, D(G(z)): 0.08\n",
            "Saving fake_images-0028.png\n",
            "Epoch [28/100], Step [200/600], d_loss: 0.2604, g_loss: 5.2496, D(x): 0.94, D(G(z)): 0.11\n",
            "Epoch [28/100], Step [400/600], d_loss: 0.2217, g_loss: 4.7990, D(x): 0.96, D(G(z)): 0.10\n",
            "Epoch [28/100], Step [600/600], d_loss: 0.2417, g_loss: 4.8879, D(x): 0.94, D(G(z)): 0.09\n",
            "Saving fake_images-0029.png\n",
            "Epoch [29/100], Step [200/600], d_loss: 0.2314, g_loss: 5.1903, D(x): 0.91, D(G(z)): 0.02\n",
            "Epoch [29/100], Step [400/600], d_loss: 0.1738, g_loss: 5.3952, D(x): 0.93, D(G(z)): 0.03\n",
            "Epoch [29/100], Step [600/600], d_loss: 0.2772, g_loss: 4.7716, D(x): 0.96, D(G(z)): 0.12\n",
            "Saving fake_images-0030.png\n",
            "Epoch [30/100], Step [200/600], d_loss: 0.2964, g_loss: 3.7710, D(x): 0.95, D(G(z)): 0.15\n",
            "Epoch [30/100], Step [400/600], d_loss: 0.1672, g_loss: 4.8107, D(x): 0.92, D(G(z)): 0.04\n",
            "Epoch [30/100], Step [600/600], d_loss: 0.3649, g_loss: 4.5802, D(x): 0.89, D(G(z)): 0.07\n",
            "Saving fake_images-0031.png\n",
            "Epoch [31/100], Step [200/600], d_loss: 0.3605, g_loss: 4.6942, D(x): 0.93, D(G(z)): 0.13\n",
            "Epoch [31/100], Step [400/600], d_loss: 0.3527, g_loss: 3.9475, D(x): 0.87, D(G(z)): 0.09\n",
            "Epoch [31/100], Step [600/600], d_loss: 0.2941, g_loss: 4.0067, D(x): 0.88, D(G(z)): 0.05\n",
            "Saving fake_images-0032.png\n",
            "Epoch [32/100], Step [200/600], d_loss: 0.4497, g_loss: 5.2440, D(x): 0.87, D(G(z)): 0.08\n",
            "Epoch [32/100], Step [400/600], d_loss: 0.3788, g_loss: 3.9703, D(x): 0.93, D(G(z)): 0.14\n",
            "Epoch [32/100], Step [600/600], d_loss: 0.4224, g_loss: 3.3722, D(x): 0.86, D(G(z)): 0.11\n",
            "Saving fake_images-0033.png\n",
            "Epoch [33/100], Step [200/600], d_loss: 0.3534, g_loss: 3.9258, D(x): 0.91, D(G(z)): 0.13\n",
            "Epoch [33/100], Step [400/600], d_loss: 0.4067, g_loss: 3.5110, D(x): 0.85, D(G(z)): 0.09\n",
            "Epoch [33/100], Step [600/600], d_loss: 0.5247, g_loss: 4.4887, D(x): 0.80, D(G(z)): 0.05\n",
            "Saving fake_images-0034.png\n",
            "Epoch [34/100], Step [200/600], d_loss: 0.5522, g_loss: 3.8674, D(x): 0.80, D(G(z)): 0.07\n",
            "Epoch [34/100], Step [400/600], d_loss: 0.3051, g_loss: 4.1153, D(x): 0.91, D(G(z)): 0.11\n",
            "Epoch [34/100], Step [600/600], d_loss: 0.4370, g_loss: 3.6235, D(x): 0.84, D(G(z)): 0.07\n",
            "Saving fake_images-0035.png\n",
            "Epoch [35/100], Step [200/600], d_loss: 0.2908, g_loss: 4.1402, D(x): 0.87, D(G(z)): 0.06\n",
            "Epoch [35/100], Step [400/600], d_loss: 0.4197, g_loss: 3.9784, D(x): 0.87, D(G(z)): 0.11\n",
            "Epoch [35/100], Step [600/600], d_loss: 0.3963, g_loss: 4.8143, D(x): 0.91, D(G(z)): 0.13\n",
            "Saving fake_images-0036.png\n",
            "Epoch [36/100], Step [200/600], d_loss: 0.3496, g_loss: 4.2693, D(x): 0.94, D(G(z)): 0.17\n",
            "Epoch [36/100], Step [400/600], d_loss: 0.2146, g_loss: 4.0956, D(x): 0.93, D(G(z)): 0.09\n",
            "Epoch [36/100], Step [600/600], d_loss: 0.4545, g_loss: 4.5921, D(x): 0.88, D(G(z)): 0.13\n",
            "Saving fake_images-0037.png\n",
            "Epoch [37/100], Step [200/600], d_loss: 0.3812, g_loss: 3.5313, D(x): 0.87, D(G(z)): 0.12\n",
            "Epoch [37/100], Step [400/600], d_loss: 0.2678, g_loss: 4.1443, D(x): 0.91, D(G(z)): 0.08\n",
            "Epoch [37/100], Step [600/600], d_loss: 0.3971, g_loss: 3.3746, D(x): 0.88, D(G(z)): 0.14\n",
            "Saving fake_images-0038.png\n",
            "Epoch [38/100], Step [200/600], d_loss: 0.3547, g_loss: 3.2818, D(x): 0.91, D(G(z)): 0.15\n",
            "Epoch [38/100], Step [400/600], d_loss: 0.5975, g_loss: 4.5929, D(x): 0.77, D(G(z)): 0.02\n",
            "Epoch [38/100], Step [600/600], d_loss: 0.3734, g_loss: 3.4284, D(x): 0.88, D(G(z)): 0.10\n",
            "Saving fake_images-0039.png\n",
            "Epoch [39/100], Step [200/600], d_loss: 0.6328, g_loss: 3.0144, D(x): 0.83, D(G(z)): 0.19\n",
            "Epoch [39/100], Step [400/600], d_loss: 0.3348, g_loss: 3.9919, D(x): 0.87, D(G(z)): 0.08\n",
            "Epoch [39/100], Step [600/600], d_loss: 0.5546, g_loss: 2.9765, D(x): 0.89, D(G(z)): 0.25\n",
            "Saving fake_images-0040.png\n",
            "Epoch [40/100], Step [200/600], d_loss: 0.4442, g_loss: 2.9820, D(x): 0.82, D(G(z)): 0.10\n",
            "Epoch [40/100], Step [400/600], d_loss: 0.3890, g_loss: 2.7885, D(x): 0.88, D(G(z)): 0.15\n",
            "Epoch [40/100], Step [600/600], d_loss: 0.4052, g_loss: 3.1380, D(x): 0.88, D(G(z)): 0.15\n",
            "Saving fake_images-0041.png\n",
            "Epoch [41/100], Step [200/600], d_loss: 0.6351, g_loss: 3.0887, D(x): 0.80, D(G(z)): 0.11\n",
            "Epoch [41/100], Step [400/600], d_loss: 0.4372, g_loss: 2.4440, D(x): 0.85, D(G(z)): 0.13\n",
            "Epoch [41/100], Step [600/600], d_loss: 0.3410, g_loss: 3.2439, D(x): 0.84, D(G(z)): 0.08\n",
            "Saving fake_images-0042.png\n",
            "Epoch [42/100], Step [200/600], d_loss: 0.5074, g_loss: 3.2749, D(x): 0.80, D(G(z)): 0.12\n",
            "Epoch [42/100], Step [400/600], d_loss: 0.3541, g_loss: 2.2312, D(x): 0.90, D(G(z)): 0.15\n",
            "Epoch [42/100], Step [600/600], d_loss: 0.3447, g_loss: 3.2853, D(x): 0.88, D(G(z)): 0.13\n",
            "Saving fake_images-0043.png\n",
            "Epoch [43/100], Step [200/600], d_loss: 0.6157, g_loss: 2.5662, D(x): 0.77, D(G(z)): 0.12\n",
            "Epoch [43/100], Step [400/600], d_loss: 0.4584, g_loss: 3.1442, D(x): 0.87, D(G(z)): 0.16\n",
            "Epoch [43/100], Step [600/600], d_loss: 0.5125, g_loss: 3.2352, D(x): 0.89, D(G(z)): 0.20\n",
            "Saving fake_images-0044.png\n",
            "Epoch [44/100], Step [200/600], d_loss: 0.4483, g_loss: 3.5581, D(x): 0.92, D(G(z)): 0.19\n",
            "Epoch [44/100], Step [400/600], d_loss: 0.4961, g_loss: 2.0508, D(x): 0.83, D(G(z)): 0.13\n",
            "Epoch [44/100], Step [600/600], d_loss: 0.5871, g_loss: 3.4624, D(x): 0.84, D(G(z)): 0.18\n",
            "Saving fake_images-0045.png\n",
            "Epoch [45/100], Step [200/600], d_loss: 0.5779, g_loss: 3.9493, D(x): 0.79, D(G(z)): 0.10\n",
            "Epoch [45/100], Step [400/600], d_loss: 0.3381, g_loss: 4.7167, D(x): 0.89, D(G(z)): 0.10\n",
            "Epoch [45/100], Step [600/600], d_loss: 0.2986, g_loss: 4.2029, D(x): 0.88, D(G(z)): 0.09\n",
            "Saving fake_images-0046.png\n",
            "Epoch [46/100], Step [200/600], d_loss: 0.4593, g_loss: 3.2034, D(x): 0.94, D(G(z)): 0.24\n",
            "Epoch [46/100], Step [400/600], d_loss: 0.4472, g_loss: 2.7612, D(x): 0.83, D(G(z)): 0.11\n",
            "Epoch [46/100], Step [600/600], d_loss: 0.5526, g_loss: 3.4636, D(x): 0.79, D(G(z)): 0.10\n",
            "Saving fake_images-0047.png\n",
            "Epoch [47/100], Step [200/600], d_loss: 0.4274, g_loss: 2.5312, D(x): 0.86, D(G(z)): 0.13\n",
            "Epoch [47/100], Step [400/600], d_loss: 0.4831, g_loss: 4.2190, D(x): 0.91, D(G(z)): 0.20\n",
            "Epoch [47/100], Step [600/600], d_loss: 0.7652, g_loss: 2.4382, D(x): 0.86, D(G(z)): 0.29\n",
            "Saving fake_images-0048.png\n",
            "Epoch [48/100], Step [200/600], d_loss: 0.7059, g_loss: 2.1950, D(x): 0.85, D(G(z)): 0.24\n",
            "Epoch [48/100], Step [400/600], d_loss: 0.5431, g_loss: 2.3849, D(x): 0.88, D(G(z)): 0.23\n",
            "Epoch [48/100], Step [600/600], d_loss: 0.4112, g_loss: 2.3131, D(x): 0.90, D(G(z)): 0.17\n",
            "Saving fake_images-0049.png\n",
            "Epoch [49/100], Step [200/600], d_loss: 0.5486, g_loss: 3.6409, D(x): 0.88, D(G(z)): 0.21\n",
            "Epoch [49/100], Step [400/600], d_loss: 0.6830, g_loss: 2.6484, D(x): 0.78, D(G(z)): 0.16\n",
            "Epoch [49/100], Step [600/600], d_loss: 0.7814, g_loss: 2.1205, D(x): 0.76, D(G(z)): 0.21\n",
            "Saving fake_images-0050.png\n",
            "Epoch [50/100], Step [200/600], d_loss: 0.4951, g_loss: 3.5746, D(x): 0.84, D(G(z)): 0.17\n",
            "Epoch [50/100], Step [400/600], d_loss: 0.4550, g_loss: 2.5196, D(x): 0.86, D(G(z)): 0.19\n",
            "Epoch [50/100], Step [600/600], d_loss: 0.6327, g_loss: 2.6487, D(x): 0.82, D(G(z)): 0.23\n",
            "Saving fake_images-0051.png\n",
            "Epoch [51/100], Step [200/600], d_loss: 0.6936, g_loss: 2.6079, D(x): 0.73, D(G(z)): 0.14\n",
            "Epoch [51/100], Step [400/600], d_loss: 0.5326, g_loss: 2.2663, D(x): 0.81, D(G(z)): 0.15\n",
            "Epoch [51/100], Step [600/600], d_loss: 0.5936, g_loss: 2.5781, D(x): 0.84, D(G(z)): 0.21\n",
            "Saving fake_images-0052.png\n",
            "Epoch [52/100], Step [200/600], d_loss: 0.7138, g_loss: 2.5445, D(x): 0.74, D(G(z)): 0.16\n",
            "Epoch [52/100], Step [400/600], d_loss: 0.4503, g_loss: 2.2542, D(x): 0.84, D(G(z)): 0.14\n",
            "Epoch [52/100], Step [600/600], d_loss: 0.7210, g_loss: 2.2956, D(x): 0.79, D(G(z)): 0.20\n",
            "Saving fake_images-0053.png\n",
            "Epoch [53/100], Step [200/600], d_loss: 0.5636, g_loss: 2.8489, D(x): 0.87, D(G(z)): 0.25\n",
            "Epoch [53/100], Step [400/600], d_loss: 0.4831, g_loss: 2.1344, D(x): 0.84, D(G(z)): 0.16\n",
            "Epoch [53/100], Step [600/600], d_loss: 0.6798, g_loss: 2.0369, D(x): 0.77, D(G(z)): 0.16\n",
            "Saving fake_images-0054.png\n",
            "Epoch [54/100], Step [200/600], d_loss: 0.5994, g_loss: 4.0934, D(x): 0.75, D(G(z)): 0.09\n",
            "Epoch [54/100], Step [400/600], d_loss: 0.4688, g_loss: 3.3925, D(x): 0.88, D(G(z)): 0.19\n",
            "Epoch [54/100], Step [600/600], d_loss: 0.5193, g_loss: 2.8373, D(x): 0.84, D(G(z)): 0.17\n",
            "Saving fake_images-0055.png\n",
            "Epoch [55/100], Step [200/600], d_loss: 0.3580, g_loss: 3.8288, D(x): 0.87, D(G(z)): 0.12\n",
            "Epoch [55/100], Step [400/600], d_loss: 0.4047, g_loss: 2.8455, D(x): 0.90, D(G(z)): 0.17\n",
            "Epoch [55/100], Step [600/600], d_loss: 0.4357, g_loss: 3.7470, D(x): 0.93, D(G(z)): 0.23\n",
            "Saving fake_images-0056.png\n",
            "Epoch [56/100], Step [200/600], d_loss: 0.5481, g_loss: 2.8072, D(x): 0.77, D(G(z)): 0.10\n",
            "Epoch [56/100], Step [400/600], d_loss: 0.3048, g_loss: 4.5481, D(x): 0.88, D(G(z)): 0.09\n",
            "Epoch [56/100], Step [600/600], d_loss: 0.8435, g_loss: 3.1152, D(x): 0.72, D(G(z)): 0.17\n",
            "Saving fake_images-0057.png\n",
            "Epoch [57/100], Step [200/600], d_loss: 0.6893, g_loss: 1.5665, D(x): 0.93, D(G(z)): 0.35\n",
            "Epoch [57/100], Step [400/600], d_loss: 0.5409, g_loss: 2.5827, D(x): 0.77, D(G(z)): 0.15\n",
            "Epoch [57/100], Step [600/600], d_loss: 0.5718, g_loss: 2.4807, D(x): 0.84, D(G(z)): 0.19\n",
            "Saving fake_images-0058.png\n",
            "Epoch [58/100], Step [200/600], d_loss: 0.7840, g_loss: 2.6997, D(x): 0.79, D(G(z)): 0.25\n",
            "Epoch [58/100], Step [400/600], d_loss: 0.4749, g_loss: 2.1135, D(x): 0.82, D(G(z)): 0.13\n",
            "Epoch [58/100], Step [600/600], d_loss: 0.5640, g_loss: 2.2510, D(x): 0.79, D(G(z)): 0.16\n",
            "Saving fake_images-0059.png\n",
            "Epoch [59/100], Step [200/600], d_loss: 0.6666, g_loss: 2.0682, D(x): 0.81, D(G(z)): 0.24\n",
            "Epoch [59/100], Step [400/600], d_loss: 0.7232, g_loss: 2.4165, D(x): 0.84, D(G(z)): 0.31\n",
            "Epoch [59/100], Step [600/600], d_loss: 0.7550, g_loss: 2.6063, D(x): 0.76, D(G(z)): 0.18\n",
            "Saving fake_images-0060.png\n",
            "Epoch [60/100], Step [200/600], d_loss: 0.8015, g_loss: 2.4343, D(x): 0.70, D(G(z)): 0.17\n",
            "Epoch [60/100], Step [400/600], d_loss: 0.4966, g_loss: 2.1160, D(x): 0.84, D(G(z)): 0.21\n",
            "Epoch [60/100], Step [600/600], d_loss: 0.5840, g_loss: 2.5085, D(x): 0.81, D(G(z)): 0.19\n",
            "Saving fake_images-0061.png\n",
            "Epoch [61/100], Step [200/600], d_loss: 0.4961, g_loss: 2.7298, D(x): 0.82, D(G(z)): 0.16\n",
            "Epoch [61/100], Step [400/600], d_loss: 0.4997, g_loss: 2.6577, D(x): 0.79, D(G(z)): 0.12\n",
            "Epoch [61/100], Step [600/600], d_loss: 0.8414, g_loss: 1.9957, D(x): 0.68, D(G(z)): 0.12\n",
            "Saving fake_images-0062.png\n",
            "Epoch [62/100], Step [200/600], d_loss: 0.6886, g_loss: 1.9583, D(x): 0.81, D(G(z)): 0.25\n",
            "Epoch [62/100], Step [400/600], d_loss: 0.6220, g_loss: 2.2826, D(x): 0.79, D(G(z)): 0.20\n",
            "Epoch [62/100], Step [600/600], d_loss: 0.6248, g_loss: 1.6480, D(x): 0.83, D(G(z)): 0.26\n",
            "Saving fake_images-0063.png\n",
            "Epoch [63/100], Step [200/600], d_loss: 0.7643, g_loss: 2.9358, D(x): 0.76, D(G(z)): 0.21\n",
            "Epoch [63/100], Step [400/600], d_loss: 0.6938, g_loss: 1.7112, D(x): 0.86, D(G(z)): 0.31\n",
            "Epoch [63/100], Step [600/600], d_loss: 0.5992, g_loss: 2.6911, D(x): 0.84, D(G(z)): 0.24\n",
            "Saving fake_images-0064.png\n",
            "Epoch [64/100], Step [200/600], d_loss: 0.6186, g_loss: 2.3503, D(x): 0.81, D(G(z)): 0.20\n",
            "Epoch [64/100], Step [400/600], d_loss: 0.4942, g_loss: 2.5533, D(x): 0.81, D(G(z)): 0.17\n",
            "Epoch [64/100], Step [600/600], d_loss: 0.5995, g_loss: 2.9015, D(x): 0.81, D(G(z)): 0.20\n",
            "Saving fake_images-0065.png\n",
            "Epoch [65/100], Step [200/600], d_loss: 0.7041, g_loss: 1.8986, D(x): 0.77, D(G(z)): 0.23\n",
            "Epoch [65/100], Step [400/600], d_loss: 0.7939, g_loss: 2.4904, D(x): 0.67, D(G(z)): 0.14\n",
            "Epoch [65/100], Step [600/600], d_loss: 0.6099, g_loss: 2.5024, D(x): 0.84, D(G(z)): 0.25\n",
            "Saving fake_images-0066.png\n",
            "Epoch [66/100], Step [200/600], d_loss: 0.5077, g_loss: 3.0432, D(x): 0.79, D(G(z)): 0.12\n",
            "Epoch [66/100], Step [400/600], d_loss: 0.5864, g_loss: 2.2997, D(x): 0.78, D(G(z)): 0.17\n",
            "Epoch [66/100], Step [600/600], d_loss: 0.5352, g_loss: 2.7383, D(x): 0.78, D(G(z)): 0.09\n",
            "Saving fake_images-0067.png\n",
            "Epoch [67/100], Step [200/600], d_loss: 0.6047, g_loss: 3.2942, D(x): 0.77, D(G(z)): 0.15\n",
            "Epoch [67/100], Step [400/600], d_loss: 0.4729, g_loss: 2.7459, D(x): 0.83, D(G(z)): 0.17\n",
            "Epoch [67/100], Step [600/600], d_loss: 0.3277, g_loss: 2.5781, D(x): 0.89, D(G(z)): 0.15\n",
            "Saving fake_images-0068.png\n",
            "Epoch [68/100], Step [200/600], d_loss: 0.7828, g_loss: 2.4595, D(x): 0.72, D(G(z)): 0.18\n",
            "Epoch [68/100], Step [400/600], d_loss: 0.7836, g_loss: 1.5450, D(x): 0.85, D(G(z)): 0.34\n",
            "Epoch [68/100], Step [600/600], d_loss: 0.5270, g_loss: 2.5805, D(x): 0.87, D(G(z)): 0.23\n",
            "Saving fake_images-0069.png\n",
            "Epoch [69/100], Step [200/600], d_loss: 0.5951, g_loss: 2.1139, D(x): 0.80, D(G(z)): 0.21\n",
            "Epoch [69/100], Step [400/600], d_loss: 0.8152, g_loss: 2.3537, D(x): 0.79, D(G(z)): 0.28\n",
            "Epoch [69/100], Step [600/600], d_loss: 0.6627, g_loss: 2.4715, D(x): 0.78, D(G(z)): 0.20\n",
            "Saving fake_images-0070.png\n",
            "Epoch [70/100], Step [200/600], d_loss: 0.7028, g_loss: 1.3935, D(x): 0.76, D(G(z)): 0.23\n",
            "Epoch [70/100], Step [400/600], d_loss: 0.7315, g_loss: 2.3170, D(x): 0.79, D(G(z)): 0.27\n",
            "Epoch [70/100], Step [600/600], d_loss: 0.6864, g_loss: 2.1979, D(x): 0.75, D(G(z)): 0.20\n",
            "Saving fake_images-0071.png\n",
            "Epoch [71/100], Step [200/600], d_loss: 0.8032, g_loss: 2.1952, D(x): 0.81, D(G(z)): 0.33\n",
            "Epoch [71/100], Step [400/600], d_loss: 0.7581, g_loss: 1.8726, D(x): 0.73, D(G(z)): 0.20\n",
            "Epoch [71/100], Step [600/600], d_loss: 0.5221, g_loss: 1.8297, D(x): 0.84, D(G(z)): 0.21\n",
            "Saving fake_images-0072.png\n",
            "Epoch [72/100], Step [200/600], d_loss: 0.8876, g_loss: 1.5425, D(x): 0.67, D(G(z)): 0.18\n",
            "Epoch [72/100], Step [400/600], d_loss: 0.6654, g_loss: 1.9092, D(x): 0.82, D(G(z)): 0.26\n",
            "Epoch [72/100], Step [600/600], d_loss: 0.6630, g_loss: 1.7399, D(x): 0.77, D(G(z)): 0.21\n",
            "Saving fake_images-0073.png\n",
            "Epoch [73/100], Step [200/600], d_loss: 0.6601, g_loss: 2.4898, D(x): 0.76, D(G(z)): 0.16\n",
            "Epoch [73/100], Step [400/600], d_loss: 0.5671, g_loss: 2.3918, D(x): 0.87, D(G(z)): 0.27\n",
            "Epoch [73/100], Step [600/600], d_loss: 0.6340, g_loss: 2.1011, D(x): 0.79, D(G(z)): 0.22\n",
            "Saving fake_images-0074.png\n",
            "Epoch [74/100], Step [200/600], d_loss: 0.6877, g_loss: 2.4873, D(x): 0.84, D(G(z)): 0.29\n",
            "Epoch [74/100], Step [400/600], d_loss: 0.8112, g_loss: 2.1631, D(x): 0.65, D(G(z)): 0.16\n",
            "Epoch [74/100], Step [600/600], d_loss: 1.0135, g_loss: 2.0031, D(x): 0.81, D(G(z)): 0.37\n",
            "Saving fake_images-0075.png\n",
            "Epoch [75/100], Step [200/600], d_loss: 0.7903, g_loss: 2.3426, D(x): 0.78, D(G(z)): 0.26\n",
            "Epoch [75/100], Step [400/600], d_loss: 0.7001, g_loss: 2.1015, D(x): 0.79, D(G(z)): 0.25\n",
            "Epoch [75/100], Step [600/600], d_loss: 0.7406, g_loss: 2.0064, D(x): 0.72, D(G(z)): 0.18\n",
            "Saving fake_images-0076.png\n",
            "Epoch [76/100], Step [200/600], d_loss: 0.5233, g_loss: 2.3860, D(x): 0.84, D(G(z)): 0.20\n",
            "Epoch [76/100], Step [400/600], d_loss: 0.7034, g_loss: 2.4673, D(x): 0.80, D(G(z)): 0.26\n",
            "Epoch [76/100], Step [600/600], d_loss: 0.6601, g_loss: 2.3984, D(x): 0.81, D(G(z)): 0.25\n",
            "Saving fake_images-0077.png\n",
            "Epoch [77/100], Step [200/600], d_loss: 1.0375, g_loss: 2.2446, D(x): 0.62, D(G(z)): 0.20\n",
            "Epoch [77/100], Step [400/600], d_loss: 0.5382, g_loss: 2.4218, D(x): 0.81, D(G(z)): 0.20\n",
            "Epoch [77/100], Step [600/600], d_loss: 0.9779, g_loss: 2.3837, D(x): 0.73, D(G(z)): 0.31\n",
            "Saving fake_images-0078.png\n",
            "Epoch [78/100], Step [200/600], d_loss: 0.6008, g_loss: 1.8430, D(x): 0.80, D(G(z)): 0.20\n",
            "Epoch [78/100], Step [400/600], d_loss: 0.6288, g_loss: 2.1955, D(x): 0.79, D(G(z)): 0.20\n",
            "Epoch [78/100], Step [600/600], d_loss: 0.7883, g_loss: 1.5406, D(x): 0.77, D(G(z)): 0.27\n",
            "Saving fake_images-0079.png\n",
            "Epoch [79/100], Step [200/600], d_loss: 0.7730, g_loss: 2.1298, D(x): 0.76, D(G(z)): 0.25\n",
            "Epoch [79/100], Step [400/600], d_loss: 0.7645, g_loss: 1.9798, D(x): 0.74, D(G(z)): 0.25\n",
            "Epoch [79/100], Step [600/600], d_loss: 0.9139, g_loss: 2.0646, D(x): 0.77, D(G(z)): 0.29\n",
            "Saving fake_images-0080.png\n",
            "Epoch [80/100], Step [200/600], d_loss: 0.7826, g_loss: 2.3199, D(x): 0.77, D(G(z)): 0.25\n",
            "Epoch [80/100], Step [400/600], d_loss: 0.7934, g_loss: 1.8395, D(x): 0.74, D(G(z)): 0.25\n",
            "Epoch [80/100], Step [600/600], d_loss: 0.9561, g_loss: 2.0278, D(x): 0.70, D(G(z)): 0.26\n",
            "Saving fake_images-0081.png\n",
            "Epoch [81/100], Step [200/600], d_loss: 0.7761, g_loss: 2.5636, D(x): 0.66, D(G(z)): 0.11\n",
            "Epoch [81/100], Step [400/600], d_loss: 0.4469, g_loss: 2.5237, D(x): 0.90, D(G(z)): 0.22\n",
            "Epoch [81/100], Step [600/600], d_loss: 0.5647, g_loss: 2.4543, D(x): 0.79, D(G(z)): 0.18\n",
            "Saving fake_images-0082.png\n",
            "Epoch [82/100], Step [200/600], d_loss: 0.7397, g_loss: 2.1618, D(x): 0.71, D(G(z)): 0.22\n",
            "Epoch [82/100], Step [400/600], d_loss: 0.8834, g_loss: 1.5672, D(x): 0.74, D(G(z)): 0.25\n",
            "Epoch [82/100], Step [600/600], d_loss: 0.5505, g_loss: 2.6801, D(x): 0.85, D(G(z)): 0.24\n",
            "Saving fake_images-0083.png\n",
            "Epoch [83/100], Step [200/600], d_loss: 0.7439, g_loss: 1.8021, D(x): 0.71, D(G(z)): 0.19\n",
            "Epoch [83/100], Step [400/600], d_loss: 0.8367, g_loss: 1.5638, D(x): 0.86, D(G(z)): 0.38\n",
            "Epoch [83/100], Step [600/600], d_loss: 0.6722, g_loss: 2.2163, D(x): 0.87, D(G(z)): 0.28\n",
            "Saving fake_images-0084.png\n",
            "Epoch [84/100], Step [200/600], d_loss: 0.7052, g_loss: 2.5925, D(x): 0.80, D(G(z)): 0.27\n",
            "Epoch [84/100], Step [400/600], d_loss: 0.8370, g_loss: 2.0861, D(x): 0.81, D(G(z)): 0.31\n",
            "Epoch [84/100], Step [600/600], d_loss: 0.9460, g_loss: 1.8012, D(x): 0.65, D(G(z)): 0.20\n",
            "Saving fake_images-0085.png\n",
            "Epoch [85/100], Step [200/600], d_loss: 0.7470, g_loss: 2.4685, D(x): 0.76, D(G(z)): 0.25\n",
            "Epoch [85/100], Step [400/600], d_loss: 0.7294, g_loss: 1.9337, D(x): 0.84, D(G(z)): 0.26\n",
            "Epoch [85/100], Step [600/600], d_loss: 0.6540, g_loss: 1.8711, D(x): 0.83, D(G(z)): 0.28\n",
            "Saving fake_images-0086.png\n",
            "Epoch [86/100], Step [200/600], d_loss: 0.6158, g_loss: 2.3239, D(x): 0.85, D(G(z)): 0.28\n",
            "Epoch [86/100], Step [400/600], d_loss: 0.9035, g_loss: 1.8277, D(x): 0.78, D(G(z)): 0.36\n",
            "Epoch [86/100], Step [600/600], d_loss: 0.9187, g_loss: 1.8230, D(x): 0.63, D(G(z)): 0.16\n",
            "Saving fake_images-0087.png\n",
            "Epoch [87/100], Step [200/600], d_loss: 0.6538, g_loss: 2.8337, D(x): 0.72, D(G(z)): 0.14\n",
            "Epoch [87/100], Step [400/600], d_loss: 0.9176, g_loss: 1.6864, D(x): 0.74, D(G(z)): 0.33\n",
            "Epoch [87/100], Step [600/600], d_loss: 1.1223, g_loss: 1.6431, D(x): 0.68, D(G(z)): 0.36\n",
            "Saving fake_images-0088.png\n",
            "Epoch [88/100], Step [200/600], d_loss: 0.8843, g_loss: 1.8369, D(x): 0.70, D(G(z)): 0.24\n",
            "Epoch [88/100], Step [400/600], d_loss: 0.8298, g_loss: 1.7450, D(x): 0.73, D(G(z)): 0.25\n",
            "Epoch [88/100], Step [600/600], d_loss: 0.8773, g_loss: 1.8966, D(x): 0.76, D(G(z)): 0.32\n",
            "Saving fake_images-0089.png\n",
            "Epoch [89/100], Step [200/600], d_loss: 0.6619, g_loss: 2.0914, D(x): 0.75, D(G(z)): 0.21\n",
            "Epoch [89/100], Step [400/600], d_loss: 0.6665, g_loss: 2.0938, D(x): 0.78, D(G(z)): 0.20\n",
            "Epoch [89/100], Step [600/600], d_loss: 0.6818, g_loss: 2.3261, D(x): 0.73, D(G(z)): 0.14\n",
            "Saving fake_images-0090.png\n",
            "Epoch [90/100], Step [200/600], d_loss: 0.7829, g_loss: 1.9129, D(x): 0.76, D(G(z)): 0.26\n",
            "Epoch [90/100], Step [400/600], d_loss: 0.6081, g_loss: 1.8849, D(x): 0.83, D(G(z)): 0.26\n",
            "Epoch [90/100], Step [600/600], d_loss: 0.8159, g_loss: 1.8678, D(x): 0.79, D(G(z)): 0.32\n",
            "Saving fake_images-0091.png\n",
            "Epoch [91/100], Step [200/600], d_loss: 0.6267, g_loss: 1.6046, D(x): 0.77, D(G(z)): 0.21\n",
            "Epoch [91/100], Step [400/600], d_loss: 0.8659, g_loss: 1.4635, D(x): 0.77, D(G(z)): 0.31\n",
            "Epoch [91/100], Step [600/600], d_loss: 0.6329, g_loss: 2.0972, D(x): 0.82, D(G(z)): 0.25\n",
            "Saving fake_images-0092.png\n",
            "Epoch [92/100], Step [200/600], d_loss: 0.7261, g_loss: 2.8219, D(x): 0.70, D(G(z)): 0.13\n",
            "Epoch [92/100], Step [400/600], d_loss: 0.8211, g_loss: 1.8202, D(x): 0.78, D(G(z)): 0.30\n",
            "Epoch [92/100], Step [600/600], d_loss: 0.6038, g_loss: 1.9546, D(x): 0.82, D(G(z)): 0.24\n",
            "Saving fake_images-0093.png\n",
            "Epoch [93/100], Step [200/600], d_loss: 0.7692, g_loss: 2.1238, D(x): 0.70, D(G(z)): 0.18\n",
            "Epoch [93/100], Step [400/600], d_loss: 0.8480, g_loss: 2.0821, D(x): 0.70, D(G(z)): 0.21\n",
            "Epoch [93/100], Step [600/600], d_loss: 0.9141, g_loss: 1.6001, D(x): 0.73, D(G(z)): 0.32\n",
            "Saving fake_images-0094.png\n",
            "Epoch [94/100], Step [200/600], d_loss: 1.1184, g_loss: 1.3321, D(x): 0.73, D(G(z)): 0.38\n",
            "Epoch [94/100], Step [400/600], d_loss: 0.8282, g_loss: 2.0328, D(x): 0.80, D(G(z)): 0.34\n",
            "Epoch [94/100], Step [600/600], d_loss: 0.6734, g_loss: 2.2565, D(x): 0.77, D(G(z)): 0.22\n",
            "Saving fake_images-0095.png\n",
            "Epoch [95/100], Step [200/600], d_loss: 0.8597, g_loss: 1.8751, D(x): 0.79, D(G(z)): 0.31\n",
            "Epoch [95/100], Step [400/600], d_loss: 0.6037, g_loss: 2.0436, D(x): 0.79, D(G(z)): 0.22\n",
            "Epoch [95/100], Step [600/600], d_loss: 0.6013, g_loss: 2.2727, D(x): 0.83, D(G(z)): 0.22\n",
            "Saving fake_images-0096.png\n",
            "Epoch [96/100], Step [200/600], d_loss: 0.6490, g_loss: 2.4459, D(x): 0.80, D(G(z)): 0.19\n",
            "Epoch [96/100], Step [400/600], d_loss: 0.6818, g_loss: 1.9479, D(x): 0.78, D(G(z)): 0.24\n",
            "Epoch [96/100], Step [600/600], d_loss: 0.8934, g_loss: 2.1748, D(x): 0.70, D(G(z)): 0.25\n",
            "Saving fake_images-0097.png\n",
            "Epoch [97/100], Step [200/600], d_loss: 0.6646, g_loss: 2.6909, D(x): 0.70, D(G(z)): 0.12\n",
            "Epoch [97/100], Step [400/600], d_loss: 0.5494, g_loss: 2.1241, D(x): 0.83, D(G(z)): 0.23\n",
            "Epoch [97/100], Step [600/600], d_loss: 0.8725, g_loss: 2.0053, D(x): 0.70, D(G(z)): 0.28\n",
            "Saving fake_images-0098.png\n",
            "Epoch [98/100], Step [200/600], d_loss: 0.9236, g_loss: 1.8619, D(x): 0.68, D(G(z)): 0.25\n",
            "Epoch [98/100], Step [400/600], d_loss: 0.7945, g_loss: 1.8376, D(x): 0.74, D(G(z)): 0.27\n",
            "Epoch [98/100], Step [600/600], d_loss: 0.6508, g_loss: 2.0322, D(x): 0.79, D(G(z)): 0.24\n",
            "Saving fake_images-0099.png\n",
            "Epoch [99/100], Step [200/600], d_loss: 0.7942, g_loss: 2.0634, D(x): 0.79, D(G(z)): 0.32\n",
            "Epoch [99/100], Step [400/600], d_loss: 0.9604, g_loss: 2.4517, D(x): 0.77, D(G(z)): 0.31\n",
            "Epoch [99/100], Step [600/600], d_loss: 0.8297, g_loss: 1.7208, D(x): 0.82, D(G(z)): 0.37\n",
            "Saving fake_images-0100.png\n",
            "CPU times: user 28min 58s, sys: 15.9 s, total: 29min 14s\n",
            "Wall time: 29min 12s\n"
          ]
        }
      ]
    },
    {
      "cell_type": "code",
      "source": [
        "import cv2\n",
        "import os\n",
        "\n",
        "vid_fname = 'gans_training.mp4'\n",
        "\n",
        "files = [os.path.join(sample_dir, f) for f in os.listdir(sample_dir) if 'generated' in f]\n",
        "files.sort()\n",
        "\n",
        "out = cv2.VideoWriter(vid_fname,cv2.VideoWriter_fourcc(*'MP4V'), 1, (530,530))\n",
        "[out.write(cv2.imread(fname)) for fname in files]\n",
        "out.release()"
      ],
      "metadata": {
        "id": "p75mruNsR_q0"
      },
      "execution_count": 29,
      "outputs": []
    },
    {
      "cell_type": "code",
      "source": [
        ""
      ],
      "metadata": {
        "id": "MBjYkBcEYvWv"
      },
      "execution_count": null,
      "outputs": []
    }
  ]
}